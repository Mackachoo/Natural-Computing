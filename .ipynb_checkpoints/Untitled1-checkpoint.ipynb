{
 "cells": [
  {
   "cell_type": "code",
   "execution_count": 1,
   "metadata": {},
   "outputs": [],
   "source": [
    "import numpy as np\n",
    "import matplotlib.pyplot as plt\n",
    "import math"
   ]
  },
  {
   "cell_type": "code",
   "execution_count": 2,
   "metadata": {},
   "outputs": [],
   "source": [
    "data = [i.strip().split() for i in open(\"two_spirals.dat\").readlines()]\n",
    "#Storing the 2 spirals data in the list 'data'"
   ]
  },
  {
   "cell_type": "code",
   "execution_count": 3,
   "metadata": {},
   "outputs": [
    {
     "data": {
      "image/png": "[encoded data removed]",
      "text/plain": [
       "<Figure size 432x288 with 1 Axes>"
      ]
     },
     "metadata": {
      "needs_background": "light"
     },
     "output_type": "display_data"
    }
   ],
   "source": [
    "x0 = []\n",
    "y0 = []\n",
    "x1 = []\n",
    "y1 = []\n",
    "\n",
    "for i in data:\n",
    "    if (i[2] == '0'):\n",
    "        x0.append(float(i[0]))\n",
    "        y0.append(float(i[1]))\n",
    "    else:\n",
    "        x1.append(float(i[0]))\n",
    "        y1.append(float(i[1]))\n",
    "\n",
    "plt.scatter(x0, y0, c='red')\n",
    "plt.scatter(x1, y1, c='blue')\n",
    "plt.show()\n",
    "#Scatter plot showing the 2 spirals"
   ]
  },
  {
   "cell_type": "code",
   "execution_count": 83,
   "metadata": {},
   "outputs": [],
   "source": [
    "class Particle:\n",
    "    \n",
    "    cognitive_c = 2.0\n",
    "    social_c = 2.0\n",
    "    velocity_c = 0.8\n",
    "    \n",
    "    best_CER = 1.0\n",
    "    \n",
    "    def __init__(self, no_weights):\n",
    "        self.no_weights = no_weights\n",
    "        self.weights = np.random.uniform(low=-10.0, high=10.0, size=(no_weights))\n",
    "        self.velocity = np.random.uniform(low=-4.0, high=4.0, size=(no_weights))\n",
    "        self.best_weights = self.weights.copy()\n",
    "    \n",
    "    def update_velocity(self, gbest):\n",
    "        #rv = np.random.random()\n",
    "        rc = np.random.random()\n",
    "        rs = 2 * np.random.random()\n",
    "        inertia = self.velocity_c * self.velocity#rv * \n",
    "        #self.velocity_c = self.velocity_c * 0.95####################################################################\n",
    "        cognitive = self.cognitive_c * rc * (self.best_weights - self.weights)\n",
    "        social = self.social_c * rs * (gbest - self.weights)\n",
    "        self.velocity = inertia + cognitive + social\n",
    "        \n",
    "    def update_weights(self):\n",
    "        self.weights = self.weights + self.velocity\n",
    "        \n",
    "    def update_sbest(self, new_CER):\n",
    "        if (new_CER < self.best_CER):\n",
    "            self.best_CER = new_CER\n",
    "            self.best_weights = self.weights.copy()"
   ]
  },
  {
   "cell_type": "code",
   "execution_count": 84,
   "metadata": {},
   "outputs": [
    {
     "name": "stdout",
     "output_type": "stream",
     "text": [
      "[ 4.10692574  6.70607704 -3.8088503  -4.60897507  6.36735815 -6.81828896\n",
      "  7.65570958  0.02961698  6.57286473 -5.73167108  6.04868817  5.47514735]\n",
      "[ 4.10692574  6.70607704 -3.8088503  -4.60897507  6.36735815 -6.81828896\n",
      "  7.65570958  0.02961698  6.57286473 -5.73167108  6.04868817  5.47514735]\n",
      "1.0\n",
      "\n",
      "[ 2.45232403  0.80247223  0.38270705  2.04083532  1.3312771  -0.12230598\n",
      " -3.16124639 -0.98383382 -0.06487373 -0.67525582  1.64015645 -0.92437116]\n",
      "[ 4.10692574  6.70607704 -3.8088503  -4.60897507  6.36735815 -6.81828896\n",
      "  7.65570958  0.02961698  6.57286473 -5.73167108  6.04868817  5.47514735]\n",
      "\n",
      "[ 2.45232403  0.80247223  0.38270705  2.04083532  1.3312771  -0.12230598\n",
      " -3.16124639 -0.98383382 -0.06487373 -0.67525582  1.64015645 -0.92437116]\n",
      "0.8\n"
     ]
    }
   ],
   "source": [
    "p = Particle(12)\n",
    "print(p.weights)\n",
    "print(p.best_weights)\n",
    "print(p.best_CER)\n",
    "print()\n",
    "gbest = [0,0,0,0,0,0,0,0,0,0,0,0]\n",
    "p.update_velocity(gbest)\n",
    "p.update_weights()\n",
    "print(p.weights)\n",
    "print(p.best_weights)\n",
    "print()\n",
    "p.update_sbest(0.8)\n",
    "print(p.weights)\n",
    "print(p.best_CER)"
   ]
  },
  {
   "cell_type": "code",
   "execution_count": 86,
   "metadata": {},
   "outputs": [],
   "source": [
    "class neural_net:\n",
    "    \n",
    "    gbest_CER = 1.0\n",
    "    gbest_weights = None\n",
    "    \n",
    "    \n",
    "    def __init__(self, no_particles, no_inputs, shape, no_iterations):\n",
    "        self.p_swarm = []\n",
    "        self.no_particles = no_particles\n",
    "        self.no_inputs = no_inputs\n",
    "        self.shape = shape\n",
    "        self.no_iterations = no_iterations\n",
    "        self.no_weights = 0\n",
    "        self.conn_layers = []\n",
    "        first_layer = self.no_inputs * self.shape[0]\n",
    "        self.no_weights += first_layer\n",
    "        self.conn_layers.append(first_layer)\n",
    "        for i in range(len(self.shape) - 1):\n",
    "            connections = shape[i] * shape[i+1]\n",
    "            self.no_weights += connections\n",
    "            self.conn_layers.append(connections)\n",
    "        self.no_weights += self.shape[-1]\n",
    "        self.conn_layers.append(self.shape[-1])\n",
    "        for i in range(no_particles):\n",
    "            p = Particle(self.no_weights)\n",
    "            self.p_swarm.append(p)\n",
    "            \n",
    "    def train(self, data_points):\n",
    "        while (self.no_iterations > 0):\n",
    "            #print(\"iterations left: \" + str(self.no_iterations))\n",
    "            for p in self.p_swarm:\n",
    "#                 print(\"Weights:\")\n",
    "#                 print(p.weights)\n",
    "#                 print()\n",
    "                error = 0\n",
    "                for d in data_points:\n",
    "                    input_dat = d[:2]\n",
    "                    input_dat.append(math.sin(input_dat[0]))\n",
    "                    input_dat.append(math.sin(input_dat[1]))\n",
    "                    target = d[2]\n",
    "                    weight_arr = [p.weights]\n",
    "                    pred = make_prediction(weight_arr, input_dat, self.conn_layers, self.shape)\n",
    "#                     print(\"Prediction vs target: \" + str(pred) + \" v \" + str(target))\n",
    "                    error += abs(target - pred)\n",
    "#                     print(\"Error: \" + str(error))\n",
    "                cer = error / len(data_points)\n",
    "#                 print(\"CER = \" + str(cer))\n",
    "#                 print()\n",
    "#                 print(\"*******************************\")\n",
    "#                 print()\n",
    "                p.update_sbest(cer)\n",
    "                if (cer < self.gbest_CER):\n",
    "                    self.gbest_CER = cer\n",
    "                    self.gbest_weights = p.weights\n",
    "            if (self.no_iterations % 10 == 0):\n",
    "                print(\"Iterations left: \" + str(self.no_iterations))\n",
    "                print(\"Best weights\")\n",
    "                print(self.gbest_weights)\n",
    "                print(\"Best CER\")\n",
    "                print(self.gbest_CER)\n",
    "                print()\n",
    "                print()\n",
    "            for p in self.p_swarm:\n",
    "#                 print(\"Before:\")\n",
    "#                 print(p.weights)\n",
    "                p.update_velocity(self.gbest_weights)\n",
    "                p.update_weights()\n",
    "#                 print(\"After:\")\n",
    "#                 print(p.weights)\n",
    "#                 print()\n",
    "#                 print(\"####################################################################################\")\n",
    "            self.no_iterations -= 1\n",
    "                \n",
    "    def test(self, data_points):\n",
    "        cer = 0\n",
    "        for d in data_points:\n",
    "            input_dat = d[:2]\n",
    "            target = d[2]\n",
    "            pred = make_prediction(self.gbest_weights, input_dat, self.no_neurons)\n",
    "            error += abs(target - pred)\n",
    "        return cer\n",
    "\n",
    "def make_prediction(weight_arr, input_dat, conn_layers, shape):\n",
    "    weight_layers = []\n",
    "    for i in conn_layers[::-1]:\n",
    "        weight_arr = np.split(weight_arr[0], [-i])\n",
    "        weight_layers.append(weight_arr[1])\n",
    "    weight_layers.reverse()\n",
    "    for i in range(len(shape)):\n",
    "        weight_matrix = np.array(np.split(weight_layers[i], shape[i]))\n",
    "        input_dat =  weight_matrix.dot(input_dat)\n",
    "    output = weight_layers[-1].dot(input_dat)\n",
    "    return sigmoid(output)\n",
    "    \n",
    "#     layer2 = np.split(weights, [-no_neurons])\n",
    "#     layer1 = np.array(np.split(layer2[0], no_neurons))\n",
    "#     layer2 = np.array(layer2[1])\n",
    "#     n_vector = layer1.dot(input_dat)\n",
    "#     result = n_vector.dot(layer2)\n",
    "#     return sigmoid(result)\n",
    "    \n",
    "def sigmoid(x):\n",
    "    return 1/(1 + np.exp(-x))"
   ]
  },
  {
   "cell_type": "code",
   "execution_count": 87,
   "metadata": {
    "scrolled": true
   },
   "outputs": [
    {
     "name": "stdout",
     "output_type": "stream",
     "text": [
      "[-8.74226028 -1.60581008  1.9672664   7.03862372 -4.17801231  3.03713132\n",
      "  0.37887682  9.84467069  4.44554686  2.26772588  3.51827311  4.29103335\n",
      " -9.64291336  6.15589423 -1.52789042  8.54534383  1.21632964 -7.48809065\n",
      " -6.06015972 -7.42029014  4.16463545 -9.43254717  4.04769864 -6.64930983\n",
      " -6.6125665  -5.36998832  7.9485151  -1.17829661 -0.22840755 -4.00041384]\n",
      "[ 3.52886072  6.15115087 -4.66025767 -2.98759834 -5.46487796 -3.45694161\n",
      "  1.42802709  8.93507122 -9.52984385  5.96627147 -4.85023019 -7.43532924\n",
      "  6.44182684 -2.03411728 -7.88002199  7.34287052 -2.38238195  6.96174776\n",
      "  5.84942464  5.4105705  -6.0121337   0.31437244  0.13172612 -3.70900161\n",
      " -6.52401075 -6.39393854 -5.05324818  4.4494385  -9.54639088 -4.66089952]\n",
      "[ 7.37769591 -0.23876673 -0.94401693 -2.56710559 -2.13805354  0.87093053\n",
      "  1.84411516  6.65845118 -9.06921102 -2.30681829  4.11672093 -1.86431747\n",
      " -9.94725276  9.46894949  8.69328879  6.75815688  8.82670408  5.93331313\n",
      "  1.51717671 -4.40661844 -3.42635514 -6.60412876  3.7860207   4.98562594\n",
      "  9.78632017 -5.40106413  3.40755244  4.27636137 -9.36814432 -4.04275224]\n",
      "[ 6.96732107  0.79882496  0.52754209 -5.6033879   1.38271289  0.63693725\n",
      "  4.07011204  8.30732785 -2.93838248 -1.08603042 -5.50467525  0.1118386\n",
      "  6.1363585  -3.10572703  3.33162601 -8.58608929 -7.28239063  5.67789425\n",
      "  2.77509304 -1.15068572 -7.07687331 -2.44044259  6.8602702  -8.63285746\n",
      "  3.06110135  4.3919652  -4.40989182 -7.48484166  3.50922529 -6.99644324]\n",
      "[ 0.40454234  5.67181113 -1.97990613 -5.91141125 -8.76160334 -0.977527\n",
      "  4.34749687  0.30285491  5.47375007  6.20483706 -8.8567989  -0.08029757\n",
      " -8.53716563  5.19157782 -8.18312564 -2.02190279  9.0518409   5.23537971\n",
      "  8.98077098  3.90236698 -4.19124614 -7.23411764  0.60575751 -8.55886569\n",
      "  5.27671111  6.9573622   6.48974101 -6.60264096 -3.17516521  0.77040861]\n",
      "[-2.65847233  2.32051372  5.4170765   8.6926445  -8.25083138  3.38080788\n",
      " -6.12628438  8.65188034 -9.59755295  0.48915478 -6.49477856 -6.36510367\n",
      "  0.65799275  5.13479615  8.83960692  7.56346968 -9.04769802 -8.16775736\n",
      "  1.92861214 -6.51708526  6.4928784   0.40002759 -3.12987865  9.55798168\n",
      " -6.61128073  9.70768719 -9.15991701  2.036373   -3.06844727  8.10332377]\n",
      "[-3.06585483 -8.0489755   3.92445552 -4.63114239  6.629087    1.89273768\n",
      " -3.67019634 -1.71618786  9.44499052  6.76321156  3.07709539 -2.32545652\n",
      "  4.40537329 -0.70902998 -8.5465708  -7.24701699  7.49314178 -4.21385807\n",
      " -4.13079771 -2.22080379 -4.24637769  9.9863321  -3.49742683 -6.85834741\n",
      " -9.99323849  0.60123198  0.73296013  0.97907349  6.75453627 -6.50182717]\n",
      "[ 0.67002861  0.75755853  6.59079948  3.30376715 -4.36785054  7.24729819\n",
      "  0.83882786 -7.19730671  8.23247589 -2.08503244  6.98831871  6.12082007\n",
      " -9.4814154  -9.16545176  8.83640881  5.95190928  7.82606668  6.41986694\n",
      " -1.28516791 -9.33021323  6.70004741 -1.48095215  5.01373545  3.36573317\n",
      "  2.32342848 -5.74527075 -1.10365019  7.35854342 -2.75472291  5.22533247]\n",
      "[-0.46930789  5.22328207  5.04676282 -8.09912588 -8.62956986  1.9599211\n",
      " -0.72318218 -9.40272402  9.98649306  4.7388278  -1.59838453  2.87364821\n",
      " -1.43236631 -7.68715204  0.46795743 -1.79127373 -2.50318536 -8.28407809\n",
      " -0.86364639  9.18233039 -4.84973599 -6.93846064 -8.90824262  3.41698375\n",
      " -9.28540682 -2.59512777 -0.32109408  4.344605    2.70781172 -5.38389345]\n",
      "[-5.27470094 -8.62742579  8.18510669  3.91322915 -1.00388132 -7.20842597\n",
      " -8.77247519 -4.222925   -9.56423349  6.82335349  1.7694232  -8.92626082\n",
      " -7.43600823  0.13669844  7.38506064  0.95913168 -0.91538499 -5.55812735\n",
      " -5.15943974 -0.35413973 -6.4711083  -2.43506827  7.59032275 -2.2876761\n",
      "  7.89903373  1.6523167   3.03702286 -2.32889418 -3.64599164  7.68272305]\n"
     ]
    }
   ],
   "source": [
    "ann = neural_net(10, 4, [6], 200)\n",
    "for p in ann.p_swarm:\n",
    "    print(p.weights)"
   ]
  },
  {
   "cell_type": "code",
   "execution_count": 88,
   "metadata": {
    "scrolled": true
   },
   "outputs": [],
   "source": [
    "use_data = []\n",
    "for d in data:\n",
    "    use_data.append([float(i) for i in d])"
   ]
  },
  {
   "cell_type": "code",
   "execution_count": 89,
   "metadata": {
    "scrolled": true
   },
   "outputs": [
    {
     "name": "stdout",
     "output_type": "stream",
     "text": [
      "Iterations left: 200\n",
      "Best weights\n",
      "[ 0.40454234  5.67181113 -1.97990613 -5.91141125 -8.76160334 -0.977527\n",
      "  4.34749687  0.30285491  5.47375007  6.20483706 -8.8567989  -0.08029757\n",
      " -8.53716563  5.19157782 -8.18312564 -2.02190279  9.0518409   5.23537971\n",
      "  8.98077098  3.90236698 -4.19124614 -7.23411764  0.60575751 -8.55886569\n",
      "  5.27671111  6.9573622   6.48974101 -6.60264096 -3.17516521  0.77040861]\n",
      "Best CER\n",
      "0.44032740663827374\n",
      "\n",
      "\n",
      "Iterations left: 190\n",
      "Best weights\n",
      "[ 24.39082478  15.76159819   3.07424374 -41.82788335 -78.67254591\n",
      "  20.49106613   3.88528467   5.44561755 -28.41274051  -5.71033955\n",
      " -22.41175394   8.25387013 -56.01424141  -3.59913986   8.58711783\n",
      "   8.29532406  19.97301882  10.42051071  27.48423635  27.47521266\n",
      "  13.18579341 -52.72751183  37.03536167  21.87342882  43.43737994\n",
      "  30.80041162  -7.0380319  -19.07814716  -6.39868607  -1.66075765]\n",
      "Best CER\n",
      "0.3524542619317685\n",
      "\n",
      "\n",
      "Iterations left: 180\n",
      "Best weights\n",
      "[ 24.39082478  15.76159819   3.07424374 -41.82788335 -78.67254591\n",
      "  20.49106613   3.88528467   5.44561755 -28.41274051  -5.71033955\n",
      " -22.41175394   8.25387013 -56.01424141  -3.59913986   8.58711783\n",
      "   8.29532406  19.97301882  10.42051071  27.48423635  27.47521266\n",
      "  13.18579341 -52.72751183  37.03536167  21.87342882  43.43737994\n",
      "  30.80041162  -7.0380319  -19.07814716  -6.39868607  -1.66075765]\n",
      "Best CER\n",
      "0.3524542619317685\n",
      "\n",
      "\n",
      "Iterations left: 170\n",
      "Best weights\n",
      "[ 24.39082478  15.76159819   3.07424374 -41.82788335 -78.67254591\n",
      "  20.49106613   3.88528467   5.44561755 -28.41274051  -5.71033955\n",
      " -22.41175394   8.25387013 -56.01424141  -3.59913986   8.58711783\n",
      "   8.29532406  19.97301882  10.42051071  27.48423635  27.47521266\n",
      "  13.18579341 -52.72751183  37.03536167  21.87342882  43.43737994\n",
      "  30.80041162  -7.0380319  -19.07814716  -6.39868607  -1.66075765]\n",
      "Best CER\n",
      "0.3524542619317685\n",
      "\n",
      "\n",
      "Iterations left: 160\n",
      "Best weights\n",
      "[ 24.39082478  15.76159819   3.07424374 -41.82788335 -78.67254591\n",
      "  20.49106613   3.88528467   5.44561755 -28.41274051  -5.71033955\n",
      " -22.41175394   8.25387013 -56.01424141  -3.59913986   8.58711783\n",
      "   8.29532406  19.97301882  10.42051071  27.48423635  27.47521266\n",
      "  13.18579341 -52.72751183  37.03536167  21.87342882  43.43737994\n",
      "  30.80041162  -7.0380319  -19.07814716  -6.39868607  -1.66075765]\n",
      "Best CER\n",
      "0.3524542619317685\n",
      "\n",
      "\n",
      "Iterations left: 150\n",
      "Best weights\n",
      "[ 24.39082478  15.76159819   3.07424374 -41.82788335 -78.67254591\n",
      "  20.49106613   3.88528467   5.44561755 -28.41274051  -5.71033955\n",
      " -22.41175394   8.25387013 -56.01424141  -3.59913986   8.58711783\n",
      "   8.29532406  19.97301882  10.42051071  27.48423635  27.47521266\n",
      "  13.18579341 -52.72751183  37.03536167  21.87342882  43.43737994\n",
      "  30.80041162  -7.0380319  -19.07814716  -6.39868607  -1.66075765]\n",
      "Best CER\n",
      "0.3524542619317685\n",
      "\n",
      "\n",
      "Iterations left: 140\n",
      "Best weights\n",
      "[ 24.39082478  15.76159819   3.07424374 -41.82788335 -78.67254591\n",
      "  20.49106613   3.88528467   5.44561755 -28.41274051  -5.71033955\n",
      " -22.41175394   8.25387013 -56.01424141  -3.59913986   8.58711783\n",
      "   8.29532406  19.97301882  10.42051071  27.48423635  27.47521266\n",
      "  13.18579341 -52.72751183  37.03536167  21.87342882  43.43737994\n",
      "  30.80041162  -7.0380319  -19.07814716  -6.39868607  -1.66075765]\n",
      "Best CER\n",
      "0.3524542619317685\n",
      "\n",
      "\n",
      "Iterations left: 130\n",
      "Best weights\n",
      "[ 24.39082478  15.76159819   3.07424374 -41.82788335 -78.67254591\n",
      "  20.49106613   3.88528467   5.44561755 -28.41274051  -5.71033955\n",
      " -22.41175394   8.25387013 -56.01424141  -3.59913986   8.58711783\n",
      "   8.29532406  19.97301882  10.42051071  27.48423635  27.47521266\n",
      "  13.18579341 -52.72751183  37.03536167  21.87342882  43.43737994\n",
      "  30.80041162  -7.0380319  -19.07814716  -6.39868607  -1.66075765]\n",
      "Best CER\n",
      "0.3524542619317685\n",
      "\n",
      "\n",
      "Iterations left: 120\n",
      "Best weights\n",
      "[ 24.39082478  15.76159819   3.07424374 -41.82788335 -78.67254591\n",
      "  20.49106613   3.88528467   5.44561755 -28.41274051  -5.71033955\n",
      " -22.41175394   8.25387013 -56.01424141  -3.59913986   8.58711783\n",
      "   8.29532406  19.97301882  10.42051071  27.48423635  27.47521266\n",
      "  13.18579341 -52.72751183  37.03536167  21.87342882  43.43737994\n",
      "  30.80041162  -7.0380319  -19.07814716  -6.39868607  -1.66075765]\n",
      "Best CER\n",
      "0.3524542619317685\n",
      "\n",
      "\n",
      "Iterations left: 110\n",
      "Best weights\n",
      "[ 24.39082478  15.76159819   3.07424374 -41.82788335 -78.67254591\n",
      "  20.49106613   3.88528467   5.44561755 -28.41274051  -5.71033955\n",
      " -22.41175394   8.25387013 -56.01424141  -3.59913986   8.58711783\n",
      "   8.29532406  19.97301882  10.42051071  27.48423635  27.47521266\n",
      "  13.18579341 -52.72751183  37.03536167  21.87342882  43.43737994\n",
      "  30.80041162  -7.0380319  -19.07814716  -6.39868607  -1.66075765]\n",
      "Best CER\n",
      "0.3524542619317685\n",
      "\n",
      "\n",
      "Iterations left: 100\n",
      "Best weights\n",
      "[ 24.39082478  15.76159819   3.07424374 -41.82788335 -78.67254591\n",
      "  20.49106613   3.88528467   5.44561755 -28.41274051  -5.71033955\n",
      " -22.41175394   8.25387013 -56.01424141  -3.59913986   8.58711783\n",
      "   8.29532406  19.97301882  10.42051071  27.48423635  27.47521266\n",
      "  13.18579341 -52.72751183  37.03536167  21.87342882  43.43737994\n",
      "  30.80041162  -7.0380319  -19.07814716  -6.39868607  -1.66075765]\n",
      "Best CER\n",
      "0.3524542619317685\n",
      "\n",
      "\n",
      "Iterations left: 90\n",
      "Best weights\n",
      "[ 24.39082478  15.76159819   3.07424374 -41.82788335 -78.67254591\n",
      "  20.49106613   3.88528467   5.44561755 -28.41274051  -5.71033955\n",
      " -22.41175394   8.25387013 -56.01424141  -3.59913986   8.58711783\n",
      "   8.29532406  19.97301882  10.42051071  27.48423635  27.47521266\n",
      "  13.18579341 -52.72751183  37.03536167  21.87342882  43.43737994\n",
      "  30.80041162  -7.0380319  -19.07814716  -6.39868607  -1.66075765]\n",
      "Best CER\n",
      "0.3524542619317685\n",
      "\n",
      "\n",
      "Iterations left: 80\n",
      "Best weights\n",
      "[ 24.39082478  15.76159819   3.07424374 -41.82788335 -78.67254591\n",
      "  20.49106613   3.88528467   5.44561755 -28.41274051  -5.71033955\n",
      " -22.41175394   8.25387013 -56.01424141  -3.59913986   8.58711783\n",
      "   8.29532406  19.97301882  10.42051071  27.48423635  27.47521266\n",
      "  13.18579341 -52.72751183  37.03536167  21.87342882  43.43737994\n",
      "  30.80041162  -7.0380319  -19.07814716  -6.39868607  -1.66075765]\n",
      "Best CER\n",
      "0.3524542619317685\n",
      "\n",
      "\n",
      "Iterations left: 70\n",
      "Best weights\n",
      "[ 24.39082478  15.76159819   3.07424374 -41.82788335 -78.67254591\n",
      "  20.49106613   3.88528467   5.44561755 -28.41274051  -5.71033955\n",
      " -22.41175394   8.25387013 -56.01424141  -3.59913986   8.58711783\n",
      "   8.29532406  19.97301882  10.42051071  27.48423635  27.47521266\n",
      "  13.18579341 -52.72751183  37.03536167  21.87342882  43.43737994\n",
      "  30.80041162  -7.0380319  -19.07814716  -6.39868607  -1.66075765]\n",
      "Best CER\n",
      "0.3524542619317685\n",
      "\n",
      "\n",
      "Iterations left: 60\n",
      "Best weights\n",
      "[ 24.39082478  15.76159819   3.07424374 -41.82788335 -78.67254591\n",
      "  20.49106613   3.88528467   5.44561755 -28.41274051  -5.71033955\n",
      " -22.41175394   8.25387013 -56.01424141  -3.59913986   8.58711783\n",
      "   8.29532406  19.97301882  10.42051071  27.48423635  27.47521266\n",
      "  13.18579341 -52.72751183  37.03536167  21.87342882  43.43737994\n",
      "  30.80041162  -7.0380319  -19.07814716  -6.39868607  -1.66075765]\n",
      "Best CER\n",
      "0.3524542619317685\n",
      "\n",
      "\n",
      "Iterations left: 50\n",
      "Best weights\n",
      "[ 24.39082478  15.76159819   3.07424374 -41.82788335 -78.67254591\n",
      "  20.49106613   3.88528467   5.44561755 -28.41274051  -5.71033955\n",
      " -22.41175394   8.25387013 -56.01424141  -3.59913986   8.58711783\n",
      "   8.29532406  19.97301882  10.42051071  27.48423635  27.47521266\n",
      "  13.18579341 -52.72751183  37.03536167  21.87342882  43.43737994\n",
      "  30.80041162  -7.0380319  -19.07814716  -6.39868607  -1.66075765]\n",
      "Best CER\n",
      "0.3524542619317685\n",
      "\n",
      "\n",
      "Iterations left: 40\n",
      "Best weights\n",
      "[ 24.39082478  15.76159819   3.07424374 -41.82788335 -78.67254591\n",
      "  20.49106613   3.88528467   5.44561755 -28.41274051  -5.71033955\n",
      " -22.41175394   8.25387013 -56.01424141  -3.59913986   8.58711783\n",
      "   8.29532406  19.97301882  10.42051071  27.48423635  27.47521266\n",
      "  13.18579341 -52.72751183  37.03536167  21.87342882  43.43737994\n",
      "  30.80041162  -7.0380319  -19.07814716  -6.39868607  -1.66075765]\n",
      "Best CER\n",
      "0.3524542619317685\n",
      "\n",
      "\n",
      "Iterations left: 30\n",
      "Best weights\n",
      "[ 24.39082478  15.76159819   3.07424374 -41.82788335 -78.67254591\n",
      "  20.49106613   3.88528467   5.44561755 -28.41274051  -5.71033955\n",
      " -22.41175394   8.25387013 -56.01424141  -3.59913986   8.58711783\n",
      "   8.29532406  19.97301882  10.42051071  27.48423635  27.47521266\n",
      "  13.18579341 -52.72751183  37.03536167  21.87342882  43.43737994\n",
      "  30.80041162  -7.0380319  -19.07814716  -6.39868607  -1.66075765]\n",
      "Best CER\n",
      "0.3524542619317685\n",
      "\n",
      "\n"
     ]
    },
    {
     "name": "stdout",
     "output_type": "stream",
     "text": [
      "Iterations left: 20\n",
      "Best weights\n",
      "[ 24.39082478  15.76159819   3.07424374 -41.82788335 -78.67254591\n",
      "  20.49106613   3.88528467   5.44561755 -28.41274051  -5.71033955\n",
      " -22.41175394   8.25387013 -56.01424141  -3.59913986   8.58711783\n",
      "   8.29532406  19.97301882  10.42051071  27.48423635  27.47521266\n",
      "  13.18579341 -52.72751183  37.03536167  21.87342882  43.43737994\n",
      "  30.80041162  -7.0380319  -19.07814716  -6.39868607  -1.66075765]\n",
      "Best CER\n",
      "0.3524542619317685\n",
      "\n",
      "\n",
      "Iterations left: 10\n",
      "Best weights\n",
      "[ 24.39082478  15.76159819   3.07424374 -41.82788335 -78.67254591\n",
      "  20.49106613   3.88528467   5.44561755 -28.41274051  -5.71033955\n",
      " -22.41175394   8.25387013 -56.01424141  -3.59913986   8.58711783\n",
      "   8.29532406  19.97301882  10.42051071  27.48423635  27.47521266\n",
      "  13.18579341 -52.72751183  37.03536167  21.87342882  43.43737994\n",
      "  30.80041162  -7.0380319  -19.07814716  -6.39868607  -1.66075765]\n",
      "Best CER\n",
      "0.3524542619317685\n",
      "\n",
      "\n"
     ]
    }
   ],
   "source": [
    "ann.train(use_data)"
   ]
  },
  {
   "cell_type": "code",
   "execution_count": 43,
   "metadata": {
    "scrolled": true
   },
   "outputs": [
    {
     "name": "stdout",
     "output_type": "stream",
     "text": [
      "[-2.04002088 -1.88938852  0.44324982 -3.49972354  7.18023616 -0.39792019\n",
      " -3.58836305 -2.35373269  1.470024    3.78301226  3.72269241 -6.86042492]\n",
      "[-0.05453172  2.32901182  0.92620841 -3.09217888  2.85757209 -0.44923689\n",
      " -1.48098205  0.4285847   1.09631474  0.37967748  0.73247123 -0.55038095]\n"
     ]
    }
   ],
   "source": [
    "for p in ann.p_swarm:\n",
    "    print(p.weights)"
   ]
  },
  {
   "cell_type": "code",
   "execution_count": 45,
   "metadata": {
    "scrolled": false
   },
   "outputs": [
    {
     "name": "stdout",
     "output_type": "stream",
     "text": [
      "Prediction vs target: 1.0 v 1.0\n",
      "Error: 0.0\n",
      "Prediction vs target: 1.812706832698257e-98 v 0.0\n",
      "Error: 3.285906061310947e-196\n",
      "Prediction vs target: 1.0 v 1.0\n",
      "Error: 3.285906061310947e-196\n",
      "Prediction vs target: 1.714167540253494e-98 v 0.0\n",
      "Error: 6.224276417369661e-196\n",
      "Prediction vs target: 1.0 v 1.0\n",
      "Error: 6.224276417369661e-196\n",
      "MSE = 1.244855283473932e-196\n",
      "Prediction vs target: 0.9999987533132447 v 1.0\n",
      "Error: 1.5542278657757698e-12\n",
      "Prediction vs target: 1.2466867551989039e-06 v 0.0\n",
      "Error: 3.1084557313641417e-12\n",
      "Prediction vs target: 0.9999994428177184 v 1.0\n",
      "Error: 3.418907826344788e-12\n",
      "Prediction vs target: 5.571822816684491e-07 v 0.0\n",
      "Error: 3.729359921350047e-12\n",
      "Prediction vs target: 0.9999995582261276 v 1.0\n",
      "Error: 3.924524075661274e-12\n",
      "MSE = 7.849048151322548e-13\n"
     ]
    }
   ],
   "source": [
    "for p in ann.p_swarm:\n",
    "    error = 0\n",
    "    for d in use_data:\n",
    "        input_dat = d[:2]\n",
    "        target = d[2]\n",
    "        pred = make_prediction(p.weights, input_dat, 4)\n",
    "        print(\"Prediction vs target: \" + str(pred) + \" v \" + str(target))\n",
    "        error += (target - pred) ** 2\n",
    "        print(\"Error: \" + str(error))\n",
    "    mse = error / len(use_data)\n",
    "    print(\"MSE = \" + str(mse))"
   ]
  },
  {
   "cell_type": "code",
   "execution_count": 46,
   "metadata": {},
   "outputs": [
    {
     "data": {
      "text/plain": [
       "3"
      ]
     },
     "execution_count": 46,
     "metadata": {},
     "output_type": "execute_result"
    }
   ],
   "source": [
    "der = 4\n",
    "der -= 1\n",
    "der"
   ]
  },
  {
   "cell_type": "code",
   "execution_count": 34,
   "metadata": {},
   "outputs": [
    {
     "data": {
      "text/plain": [
       "array([0.16234723, 0.82970264, 0.55429779, 0.38560996, 0.56121406])"
      ]
     },
     "execution_count": 34,
     "metadata": {},
     "output_type": "execute_result"
    }
   ],
   "source": [
    "n = np.random.uniform(size=5)\n",
    "n"
   ]
  },
  {
   "cell_type": "code",
   "execution_count": 54,
   "metadata": {},
   "outputs": [
    {
     "data": {
      "text/plain": [
       "[['4.47485', '-0.89004', '1'],\n",
       " ['-4.47485', '0.89004', '0'],\n",
       " ['4.50000', '0.00007', '1'],\n",
       " ['-4.50000', '-0.00007', '0'],\n",
       " ['4.35222', '0.86578', '1'],\n",
       " ['-4.35222', '-0.86578', '0'],\n",
       " ['4.04195', '1.67430', '1'],\n",
       " ['-4.04195', '-1.67430', '0'],\n",
       " ['3.58567', '2.39595', '1'],\n",
       " ['-3.58567', '-2.39595', '0']]"
      ]
     },
     "execution_count": 54,
     "metadata": {},
     "output_type": "execute_result"
    }
   ],
   "source": [
    "data[:10]"
   ]
  },
  {
   "cell_type": "code",
   "execution_count": 73,
   "metadata": {
    "scrolled": true
   },
   "outputs": [
    {
     "data": {
      "image/png": "[encoded data removed]",
      "text/plain": [
       "<Figure size 432x288 with 1 Axes>"
      ]
     },
     "metadata": {
      "needs_background": "light"
     },
     "output_type": "display_data"
    }
   ],
   "source": [
    "plt.scatter(x0[:5], y0[:5], c='red')\n",
    "plt.scatter(x1[:5], y1[:5], c='blue')\n",
    "plt.show()"
   ]
  },
  {
   "cell_type": "code",
   "execution_count": 140,
   "metadata": {},
   "outputs": [
    {
     "data": {
      "text/plain": [
       "264"
      ]
     },
     "execution_count": 140,
     "metadata": {},
     "output_type": "execute_result"
    }
   ],
   "source": [
    "len(data)"
   ]
  },
  {
   "cell_type": "code",
   "execution_count": 4,
   "metadata": {},
   "outputs": [
    {
     "data": {
      "text/plain": [
       "array([ 0.46477822, -4.94108301,  2.22317924,  1.41864725, -1.20864108,\n",
       "        4.22039113, -1.83713871,  7.39452843, -4.37398149,  7.08231867,\n",
       "        3.67176517,  5.38352563])"
      ]
     },
     "execution_count": 4,
     "metadata": {},
     "output_type": "execute_result"
    }
   ],
   "source": [
    "np.random.uniform(low=-10.0, high=10.0, size=(12,))"
   ]
  },
  {
   "cell_type": "code",
   "execution_count": 34,
   "metadata": {},
   "outputs": [],
   "source": [
    "shape = [4,3,2]\n",
    "inputs = 4"
   ]
  },
  {
   "cell_type": "code",
   "execution_count": 70,
   "metadata": {},
   "outputs": [
    {
     "name": "stdout",
     "output_type": "stream",
     "text": [
      "36\n",
      "[16, 12, 6, 2]\n"
     ]
    }
   ],
   "source": [
    "weights = 0\n",
    "conn_layers = []\n",
    "first_layer = inputs * shape[0]\n",
    "weights += first_layer\n",
    "conn_layers.append(first_layer)\n",
    "for i in range(len(shape) - 1):\n",
    "    connections = shape[i] * shape[i+1]\n",
    "    weights += connections\n",
    "    conn_layers.append(connections)\n",
    "weights += shape[-1]\n",
    "conn_layers.append(shape[-1])\n",
    "print(weights)\n",
    "print(conn_layers)"
   ]
  },
  {
   "cell_type": "code",
   "execution_count": 71,
   "metadata": {},
   "outputs": [
    {
     "name": "stdout",
     "output_type": "stream",
     "text": [
      "[array([2, 4, 9, 8, 8, 2, 9, 3, 5, 7, 7, 5, 2, 5, 0, 3, 1, 6, 6, 7, 9, 4,\n",
      "       4, 8, 0, 9, 6, 6, 6, 3, 0, 9, 6, 4, 8, 5])]\n",
      "[array([2, 4, 9, 8, 8, 2, 9, 3, 5, 7, 7, 5, 2, 5, 0, 3]), array([1, 6, 6, 7, 9, 4, 4, 8, 0, 9, 6, 6]), array([6, 3, 0, 9, 6, 4]), array([8, 5])]\n"
     ]
    }
   ],
   "source": [
    "rand_array = [np.random.randint(10, size=weights)]\n",
    "print(rand_array)\n",
    "arr = []\n",
    "for i in conn_layers[::-1]:\n",
    "    rand_array = np.split(rand_array[0], [-i])\n",
    "    arr.append(rand_array[1])\n",
    "arr.reverse()\n",
    "print(arr)"
   ]
  },
  {
   "cell_type": "code",
   "execution_count": 76,
   "metadata": {},
   "outputs": [
    {
     "data": {
      "text/plain": [
       "170286"
      ]
     },
     "execution_count": 76,
     "metadata": {},
     "output_type": "execute_result"
    }
   ],
   "source": [
    "inputs = [2,1,3,4]\n",
    "for i in range(len(shape)):\n",
    "    w = np.array(np.split(arr[i], shape[i]))\n",
    "    inputs = w.dot(inputs)\n",
    "output = arr[-1].dot(inputs)\n",
    "output\n",
    "# w = np.array(np.split(arr[0], shape[0]))\n",
    "# print(w)\n",
    "# inputs = w.dot(inputs)\n",
    "# print(inputs)\n",
    "# print()\n",
    "# w = np.array(np.split(arr[1], shape[1]))\n",
    "# print(w)\n",
    "# inputs = w.dot(inputs)\n",
    "# print(inputs)\n",
    "# print()\n",
    "# w = np.array(np.split(arr[2], shape[2]))\n",
    "# print(w)\n",
    "# inputs = w.dot(inputs)\n",
    "# print(inputs)\n",
    "# print()\n",
    "# print(arr[-1])\n",
    "# output = arr[-1].dot(inputs)\n",
    "# output"
   ]
  },
  {
   "cell_type": "code",
   "execution_count": 62,
   "metadata": {},
   "outputs": [
    {
     "name": "stdout",
     "output_type": "stream",
     "text": [
      "[array([9.14640808e-04, 9.76745179e-01, 1.87269547e-01, 8.59651655e-02,\n",
      "       4.32048201e-01, 6.06428267e-01, 3.04083548e-01, 7.33910914e-01,\n",
      "       5.23842156e-01, 2.04739089e-01, 8.40352447e-01, 8.01503062e-01,\n",
      "       3.09148551e-01, 4.46008202e-01, 8.88826171e-01, 8.66837795e-01,\n",
      "       6.25191486e-01, 1.06605780e-01, 6.40143171e-01, 7.20495647e-02,\n",
      "       8.75399031e-01, 3.10905492e-01, 6.93177323e-01, 3.33612785e-01,\n",
      "       2.87293850e-01, 7.17985474e-01, 5.62679635e-01, 6.54956289e-01]), array([0.85152176, 0.99741196, 0.73789124, 0.61906824, 0.21042631,\n",
      "       0.21815524])]\n"
     ]
    },
    {
     "data": {
      "text/plain": [
       "[array([0.41328939, 0.96744367]),\n",
       " array([0.85152176, 0.99741196, 0.73789124, 0.61906824, 0.21042631,\n",
       "        0.21815524])]"
      ]
     },
     "execution_count": 62,
     "metadata": {},
     "output_type": "execute_result"
    }
   ],
   "source": [
    "v1 = np.split(v1[0], [-6])\n",
    "print(v1)\n",
    "arr.append(v1[1])\n",
    "arr"
   ]
  },
  {
   "cell_type": "code",
   "execution_count": 63,
   "metadata": {},
   "outputs": [
    {
     "name": "stdout",
     "output_type": "stream",
     "text": [
      "[array([9.14640808e-04, 9.76745179e-01, 1.87269547e-01, 8.59651655e-02,\n",
      "       4.32048201e-01, 6.06428267e-01, 3.04083548e-01, 7.33910914e-01,\n",
      "       5.23842156e-01, 2.04739089e-01, 8.40352447e-01, 8.01503062e-01,\n",
      "       3.09148551e-01, 4.46008202e-01, 8.88826171e-01, 8.66837795e-01]), array([0.62519149, 0.10660578, 0.64014317, 0.07204956, 0.87539903,\n",
      "       0.31090549, 0.69317732, 0.33361278, 0.28729385, 0.71798547,\n",
      "       0.56267964, 0.65495629])]\n"
     ]
    },
    {
     "data": {
      "text/plain": [
       "[array([0.41328939, 0.96744367]),\n",
       " array([0.85152176, 0.99741196, 0.73789124, 0.61906824, 0.21042631,\n",
       "        0.21815524]),\n",
       " array([0.62519149, 0.10660578, 0.64014317, 0.07204956, 0.87539903,\n",
       "        0.31090549, 0.69317732, 0.33361278, 0.28729385, 0.71798547,\n",
       "        0.56267964, 0.65495629])]"
      ]
     },
     "execution_count": 63,
     "metadata": {},
     "output_type": "execute_result"
    }
   ],
   "source": [
    "v1 = np.split(v1[0], [-12])\n",
    "print(v1)\n",
    "arr.append(v1[1])\n",
    "arr"
   ]
  },
  {
   "cell_type": "code",
   "execution_count": 64,
   "metadata": {},
   "outputs": [
    {
     "name": "stdout",
     "output_type": "stream",
     "text": [
      "[array([], dtype=float64), array([9.14640808e-04, 9.76745179e-01, 1.87269547e-01, 8.59651655e-02,\n",
      "       4.32048201e-01, 6.06428267e-01, 3.04083548e-01, 7.33910914e-01,\n",
      "       5.23842156e-01, 2.04739089e-01, 8.40352447e-01, 8.01503062e-01,\n",
      "       3.09148551e-01, 4.46008202e-01, 8.88826171e-01, 8.66837795e-01])]\n"
     ]
    },
    {
     "data": {
      "text/plain": [
       "[array([0.41328939, 0.96744367]),\n",
       " array([0.85152176, 0.99741196, 0.73789124, 0.61906824, 0.21042631,\n",
       "        0.21815524]),\n",
       " array([0.62519149, 0.10660578, 0.64014317, 0.07204956, 0.87539903,\n",
       "        0.31090549, 0.69317732, 0.33361278, 0.28729385, 0.71798547,\n",
       "        0.56267964, 0.65495629]),\n",
       " array([9.14640808e-04, 9.76745179e-01, 1.87269547e-01, 8.59651655e-02,\n",
       "        4.32048201e-01, 6.06428267e-01, 3.04083548e-01, 7.33910914e-01,\n",
       "        5.23842156e-01, 2.04739089e-01, 8.40352447e-01, 8.01503062e-01,\n",
       "        3.09148551e-01, 4.46008202e-01, 8.88826171e-01, 8.66837795e-01])]"
      ]
     },
     "execution_count": 64,
     "metadata": {},
     "output_type": "execute_result"
    }
   ],
   "source": [
    "v1 = np.split(v1[0], [-16])\n",
    "print(v1)\n",
    "arr.append(v1[1])\n",
    "arr"
   ]
  },
  {
   "cell_type": "code",
   "execution_count": 65,
   "metadata": {},
   "outputs": [
    {
     "data": {
      "text/plain": [
       "[array([9.14640808e-04, 9.76745179e-01, 1.87269547e-01, 8.59651655e-02,\n",
       "        4.32048201e-01, 6.06428267e-01, 3.04083548e-01, 7.33910914e-01,\n",
       "        5.23842156e-01, 2.04739089e-01, 8.40352447e-01, 8.01503062e-01,\n",
       "        3.09148551e-01, 4.46008202e-01, 8.88826171e-01, 8.66837795e-01]),\n",
       " array([0.62519149, 0.10660578, 0.64014317, 0.07204956, 0.87539903,\n",
       "        0.31090549, 0.69317732, 0.33361278, 0.28729385, 0.71798547,\n",
       "        0.56267964, 0.65495629]),\n",
       " array([0.85152176, 0.99741196, 0.73789124, 0.61906824, 0.21042631,\n",
       "        0.21815524]),\n",
       " array([0.41328939, 0.96744367])]"
      ]
     },
     "execution_count": 65,
     "metadata": {},
     "output_type": "execute_result"
    }
   ],
   "source": [
    "arr.reverse()\n",
    "arr"
   ]
  },
  {
   "cell_type": "code",
   "execution_count": 79,
   "metadata": {},
   "outputs": [
    {
     "data": {
      "text/plain": [
       "[6]"
      ]
     },
     "execution_count": 79,
     "metadata": {},
     "output_type": "execute_result"
    }
   ],
   "source": []
  },
  {
   "cell_type": "code",
   "execution_count": null,
   "metadata": {},
   "outputs": [],
   "source": []
  }
 ],
 "metadata": {
  "kernelspec": {
   "display_name": "Python 3",
   "language": "python",
   "name": "python3"
  },
  "language_info": {
   "codemirror_mode": {
    "name": "ipython",
    "version": 3
   },
   "file_extension": ".py",
   "mimetype": "text/x-python",
   "name": "python",
   "nbconvert_exporter": "python",
   "pygments_lexer": "ipython3",
   "version": "3.7.4"
  }
 },
 "nbformat": 4,
 "nbformat_minor": 2
}
