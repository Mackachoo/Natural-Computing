{
 "cells": [
  {
   "cell_type": "code",
   "execution_count": 1,
   "metadata": {},
   "outputs": [],
   "source": [
    "import numpy as np\n",
    "import matplotlib.pyplot as plt"
   ]
  },
  {
   "cell_type": "code",
   "execution_count": 3,
   "metadata": {},
   "outputs": [],
   "source": [
    "data = [i.strip().split() for i in open(\"two_spirals.dat\").readlines()]\n",
    "#Storing the 2 spirals data in the list 'data'"
   ]
  },
  {
   "cell_type": "code",
   "execution_count": 5,
   "metadata": {},
   "outputs": [
    {
     "data": {
      "image/png": "[encoded data removed]",
      "text/plain": [
       "<Figure size 432x288 with 1 Axes>"
      ]
     },
     "metadata": {
      "needs_background": "light"
     },
     "output_type": "display_data"
    }
   ],
   "source": [
    "x0 = []\n",
    "y0 = []\n",
    "x1 = []\n",
    "y1 = []\n",
    "\n",
    "for i in data:\n",
    "    if (i[2] == '0'):\n",
    "        x0.append(float(i[0]))\n",
    "        y0.append(float(i[1]))\n",
    "    else:\n",
    "        x1.append(float(i[0]))\n",
    "        y1.append(float(i[1]))\n",
    "\n",
    "plt.scatter(x0, y0, c='red')\n",
    "plt.scatter(x1, y1, c='blue')\n",
    "plt.show()\n",
    "#Scatter plot showing the 2 spirals"
   ]
  },
  {
   "cell_type": "code",
   "execution_count": 14,
   "metadata": {},
   "outputs": [],
   "source": [
    "class Particle:\n",
    "    \n",
    "    cognitive_c = 2.0\n",
    "    social_c = 2.0\n",
    "    velocity_c = 1.0\n",
    "    \n",
    "    best_MSE = 1.0\n",
    "    \n",
    "    def __init__(self, no_inputs, no_neurons):\n",
    "        self.no_inputs = no_inputs\n",
    "        self.no_neurons = no_neurons\n",
    "        self.weights = np.random.randn(no_inputs*no_neurons+no_neurons)#np.array([0.5, 0.2, 0.1, 0.8])\n",
    "        self.velocity = np.random.randn(no_inputs*no_neurons+no_neurons)#np.array([0, 0, 0.5, 0.2])\n",
    "        self.best_weights = self.weights.copy()\n",
    "    \n",
    "    def update_velocity(self, gbest):\n",
    "        rv = 0.5 #2 * np.random.random()\n",
    "        rc = 1   #2 * np.random.random()\n",
    "        rs = 2   #2 * np.random.random()\n",
    "        inertia = self.velocity_c * rv * self.velocity\n",
    "        #self.velocity_c = self.velocity_c - 0.5####################################################################\n",
    "        cognitive = self.cognitive_c * rc * (self.best_weights - self.weights)\n",
    "        social = self.social_c * rs * (gbest - self.weights)\n",
    "        self.velocity = inertia + cognitive + social\n",
    "        \n",
    "    def update_weights(self):\n",
    "        self.weights = self.weights + self.velocity\n",
    "        \n",
    "    def update_sbest(self, new_MSE):\n",
    "        if (new_MSE < self.best_MSE):\n",
    "            self.best_MSE = new_MSE\n",
    "            self.best_weights = self.weights.copy()"
   ]
  },
  {
   "cell_type": "code",
   "execution_count": 15,
   "metadata": {},
   "outputs": [
    {
     "name": "stdout",
     "output_type": "stream",
     "text": [
      "[ 0.955574    0.61016509 -0.43649764 -1.03265123 -0.55903006 -0.76123522\n",
      " -1.33727485  0.16796126 -0.14086537  0.71431015 -1.33616333 -1.3817666 ]\n",
      "[ 0.955574    0.61016509 -0.43649764 -1.03265123 -0.55903006 -0.76123522\n",
      " -1.33727485  0.16796126 -0.14086537  0.71431015 -1.33616333 -1.3817666 ]\n",
      "\n",
      "[-2.88807847 -0.77836603  1.15700154  3.89334043  1.64853178  2.35931025\n",
      "  4.00257259 -1.35541843  0.21495872 -2.3671115   3.69521188  4.58339903]\n",
      "[ 0.955574    0.61016509 -0.43649764 -1.03265123 -0.55903006 -0.76123522\n",
      " -1.33727485  0.16796126 -0.14086537  0.71431015 -1.33616333 -1.3817666 ]\n",
      "\n",
      "[-2.88807847 -0.77836603  1.15700154  3.89334043  1.64853178  2.35931025\n",
      "  4.00257259 -1.35541843  0.21495872 -2.3671115   3.69521188  4.58339903]\n"
     ]
    }
   ],
   "source": [
    "p = Particle(2, 4)\n",
    "print(p.weights)\n",
    "print(p.best_weights)\n",
    "print()\n",
    "gbest = [0,0,0,0,0,0,0,0,0,0,0,0]\n",
    "p.update_velocity(gbest)\n",
    "p.update_weights()\n",
    "print(p.weights)\n",
    "print(p.best_weights)\n",
    "print()\n",
    "p.update_sbest(0.8)\n",
    "print(p.weights)"
   ]
  },
  {
   "cell_type": "code",
   "execution_count": 23,
   "metadata": {},
   "outputs": [
    {
     "name": "stdout",
     "output_type": "stream",
     "text": [
      "[-0.49899703  0.0936676  -0.54711853  1.46355971 -0.33201071  1.92558543\n",
      "  0.75690198 -1.36650118 -0.21986547 -0.11890555  1.00779979  0.93736461\n",
      "  1.32439951 -2.05675569  1.57792337 -0.71279882  0.56675225  0.81020129\n",
      " -0.67296119 -0.84575721]\n",
      "[-0.19371855 -0.88102133  0.22304088  0.59966883  0.20764309 -0.21640921\n",
      "  0.59400383 -1.02303919  0.45253906 -1.91062972  0.41211086 -0.25077774\n",
      " -0.43387484  0.02618476  0.42991873  1.86016984 -0.99942192 -0.2595641\n",
      " -1.58663009  1.36887398]\n",
      "[-1.39964334 -0.96213298 -0.21157359  1.26141274  0.1908562  -0.40352308\n",
      "  1.2425373  -0.00345959 -0.88089992 -0.32098618  0.87012438  1.13571011\n",
      "  0.79334771 -0.10733604  1.2113422   1.17523214 -0.99741813  1.70985337\n",
      " -2.33601629 -1.06679181]\n",
      "[ 0.07430703 -1.71559038 -0.4468979   0.04446435 -0.46788067 -0.62837851\n",
      "  0.69691129  1.23511691  1.19866706 -0.02610783  1.58182916 -0.46682769\n",
      "  0.15809883  0.73458022 -0.08004945 -1.66404774  1.18342154  0.08207534\n",
      "  2.39485271  0.89514272]\n",
      "[-0.05175563 -0.04442785 -0.89314492 -1.12668834 -0.13157217  2.12354182\n",
      " -0.41493599 -0.12741317  0.47773418 -1.09661967 -1.39475957  1.30698316\n",
      " -0.79485166 -0.04542304 -1.59767037 -1.53051276  0.55935749 -2.06030957\n",
      "  1.37915256 -0.76848408]\n",
      "[ 1.30319066 -0.90309633 -0.1632493   0.89243748 -0.67851063  0.6766775\n",
      " -1.69287323 -0.76656401 -1.13155311  1.58143366 -1.64043577  1.30554532\n",
      "  1.10484636 -1.09934973 -0.77937895 -0.7845721   0.14326015  0.74867874\n",
      " -2.15614641  0.77375982]\n"
     ]
    }
   ],
   "source": [
    "class neural_net:\n",
    "    \n",
    "    gbest_MSE = 1.0\n",
    "    gbest_weights = None\n",
    "    \n",
    "    \n",
    "    def __init__(self, no_particles, no_inputs, no_neurons, no_iterations):\n",
    "        self.p_swarm = []\n",
    "        self.no_particles = no_particles\n",
    "        self.no_inputs = no_inputs\n",
    "        self.no_neurons = no_neurons\n",
    "        self.no_iterations = no_iterations\n",
    "        for i in range(no_particles):\n",
    "            p = Particle(no_inputs, no_neurons)\n",
    "            self.p_swarm.append(p)\n",
    "            \n",
    "    def train(self, data_points):\n",
    "        for p in self.p_swarm:\n",
    "            error = 0\n",
    "            for d in data_points:\n",
    "                input_dat = d[:2]\n",
    "                target = d[2]\n",
    "                pred = make_prediction(p.weights, input_dat, self.no_neurons)\n",
    "                error += (target - pred) ** 2\n",
    "                \n",
    "                \n",
    "            \n",
    "def make_prediction(weights, input_dat, no_neurons):\n",
    "    layer2 = np.split(weights, [-no_neurons])\n",
    "    layer1 = np.array(np.split(layer2[0], no_neurons))\n",
    "    layer2 = np.array(layer2[1])\n",
    "    n_vector = layer1.dot(input_dat)\n",
    "    result = n_vector.dot(layer2)\n",
    "    return sigmoid(result)\n",
    "    \n",
    "def sigmoid(x):\n",
    "    return 1/(1 + np.exp(-x))\n",
    "\n",
    "ann = neural_net(6, 4, 4)\n",
    "for p in ann.p_swarm:\n",
    "    print(p.weights)"
   ]
  },
  {
   "cell_type": "code",
   "execution_count": null,
   "metadata": {},
   "outputs": [],
   "source": []
  }
 ],
 "metadata": {
  "kernelspec": {
   "display_name": "Python 3",
   "language": "python",
   "name": "python3"
  },
  "language_info": {
   "codemirror_mode": {
    "name": "ipython",
    "version": 3
   },
   "file_extension": ".py",
   "mimetype": "text/x-python",
   "name": "python",
   "nbconvert_exporter": "python",
   "pygments_lexer": "ipython3",
   "version": "3.7.4"
  }
 },
 "nbformat": 4,
 "nbformat_minor": 2
}
