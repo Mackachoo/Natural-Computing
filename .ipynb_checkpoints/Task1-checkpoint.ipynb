{
 "cells": [
  {
   "cell_type": "code",
   "execution_count": 82,
   "metadata": {},
   "outputs": [],
   "source": [
    "import numpy as np\n",
    "import matplotlib.pyplot as plt\n",
    "import math"
   ]
  },
  {
   "cell_type": "code",
   "execution_count": 83,
   "metadata": {},
   "outputs": [],
   "source": [
    "data = [i.strip().split() for i in open(\"two_spirals.dat\").readlines()]\n",
    "#Storing the 2 spirals data in the list 'data'"
   ]
  },
  {
   "cell_type": "code",
   "execution_count": 84,
   "metadata": {},
   "outputs": [
    {
     "data": {
      "image/png": "[encoded data removed]",
      "text/plain": [
       "<Figure size 432x288 with 1 Axes>"
      ]
     },
     "metadata": {
      "needs_background": "light"
     },
     "output_type": "display_data"
    }
   ],
   "source": [
    "x0 = []\n",
    "y0 = []\n",
    "x1 = []\n",
    "y1 = []\n",
    "\n",
    "for i in data:\n",
    "    if (i[2] == '0'):\n",
    "        x0.append(float(i[0]))\n",
    "        y0.append(float(i[1]))\n",
    "    else:\n",
    "        x1.append(float(i[0]))\n",
    "        y1.append(float(i[1]))\n",
    "\n",
    "plt.scatter(x0, y0, c='red')\n",
    "plt.scatter(x1, y1, c='blue')\n",
    "plt.show()\n",
    "#Scatter plot showing the 2 spirals\n",
    "#This is purely for visualisation purposes. These lists and this graph is not used for the program"
   ]
  },
  {
   "cell_type": "code",
   "execution_count": 85,
   "metadata": {},
   "outputs": [],
   "source": [
    "class Particle:\n",
    "    \n",
    "    ####### CONSTANTS\n",
    "    \n",
    "    #Parameters of PSO\n",
    "    cognitive_c = 2.02\n",
    "    social_c = 2.02\n",
    "    velocity_c = 0.7\n",
    "    \n",
    "    #The best MSE starts at 1 as that is the worst possible value.\n",
    "    #This is updated as the PSO algorithm runs\n",
    "    best_MSE = 1.0\n",
    "    \n",
    "    ####### FUNCTIONS\n",
    "    \n",
    "    #Constructor function, creates the initial weights and velocity\n",
    "    #This is based on the number of weights required in the network\n",
    "    def __init__(self, no_weights):\n",
    "        self.no_weights = no_weights\n",
    "        self.weights = np.random.uniform(low=-10.0, high=10.0, size=(no_weights))\n",
    "        self.velocity = np.random.uniform(low=-4.0, high=4.0, size=(no_weights))\n",
    "        self.best_weights = self.weights.copy()#Initially, the best weights are the first set of randomly assigned weights\n",
    "    \n",
    "    #To update velocity, there are 3 components\n",
    "    #Cognitive component - vector in the direction of self best from current location\n",
    "    #Social component - vector in the direction of the global best from current location\n",
    "    #Previous velocity - Vector in the direction th particle travelled previously\n",
    "    #The new velocity is the sum of these 3 components\n",
    "    def update_velocity(self, gbest):\n",
    "        rc = np.random.random() #A random multiplier is also given to the social and cognitive components\n",
    "        rs = np.random.random() #because this is a stochastic search algorithm\n",
    "        inertia = self.velocity_c * self.velocity\n",
    "        cognitive = self.cognitive_c * rc * (self.best_weights - self.weights)\n",
    "        social = self.social_c * rs * (gbest - self.weights)\n",
    "        self.velocity = inertia + cognitive + social\n",
    "        \n",
    "    #Weights updated by adding the new velocity\n",
    "    def update_weights(self):\n",
    "        self.weights = self.weights + self.velocity\n",
    "        \n",
    "    #At every time step, the MSE is calculated, and this function checks if the best MSE\n",
    "    #and the best weights need to be updated\n",
    "    def update_sbest(self, new_MSE):\n",
    "        if (new_MSE < self.best_MSE):\n",
    "            self.best_MSE = new_MSE\n",
    "            self.best_weights = self.weights.copy()"
   ]
  },
  {
   "cell_type": "code",
   "execution_count": 86,
   "metadata": {},
   "outputs": [],
   "source": [
    "class neural_net:\n",
    "    \n",
    "    ###### CONSTANTS\n",
    "    \n",
    "    #As with self best MSE, Global best MSE starts at 1\n",
    "    gbest_MSE = 1.0\n",
    "    gbest_weights = None\n",
    "    \n",
    "    ######FUNCTIONS\n",
    "    \n",
    "    #Constructor, taking in the number of particles, number of inputs, the shape of the network, and the number of iterations\n",
    "    def __init__(self, no_particles, no_inputs, shape, no_iterations):\n",
    "        self.p_swarm = []\n",
    "        self.no_particles = no_particles\n",
    "        self.no_inputs = no_inputs\n",
    "        self.shape = shape\n",
    "        self.no_iterations = no_iterations\n",
    "        self.no_weights = 0 #The number of weights for the neural net is decided depending on the shape and number of inputs\n",
    "        self.conn_layers = [] #A list specifying the number of connections per layer\n",
    "                              #Length at least 2\n",
    "                              #Useful in order to split the weights from an array into matrices\n",
    "        first_layer = self.no_inputs * self.shape[0]\n",
    "        self.no_weights += first_layer\n",
    "        self.conn_layers.append(first_layer)\n",
    "        for i in range(len(self.shape) - 1):\n",
    "            connections = shape[i] * shape[i+1]\n",
    "            self.no_weights += connections\n",
    "            self.conn_layers.append(connections)\n",
    "        self.no_weights += self.shape[-1]\n",
    "        self.conn_layers.append(self.shape[-1])\n",
    "        for i in range(no_particles):\n",
    "            p = Particle(self.no_weights)\n",
    "            self.p_swarm.append(p) #A list of specified amount of Particles is created\n",
    "    \n",
    "    #The function to train the neural net on the given data\n",
    "    def train(self, data_points):\n",
    "        while (self.no_iterations > 0):\n",
    "            for p in self.p_swarm:\n",
    "                error = 0\n",
    "                for d in data_points:\n",
    "                    input_dat = d[:2]\n",
    "#                     input_dat.append(math.sin(input_dat[0]))\n",
    "#                     input_dat.append(math.sin(input_dat[1]))\n",
    "#                     input_dat.append((input_dat[0]) ** 2)\n",
    "#                     input_dat.append((input_dat[1]) ** 2)\n",
    "                    target = d[2]\n",
    "                    weight_arr = [p.weights] #In order to correctly loop through the weights, they must start in a singleton list\n",
    "                    pred = make_prediction(weight_arr, input_dat, self.conn_layers, self.shape)\n",
    "                    error += (target - pred) ** 2\n",
    "                mse = error / len(data_points)\n",
    "                p.update_sbest(mse) #MSE is calculated at every time step and used to update global and self bests if necessary\n",
    "                if (mse < self.gbest_MSE):\n",
    "                    self.gbest_MSE = mse\n",
    "                    self.gbest_weights = p.weights\n",
    "            for p in self.p_swarm: #The new weights are calculated based off any potential changes\n",
    "                p.update_velocity(self.gbest_weights)\n",
    "                p.update_weights()\n",
    "            self.no_iterations -= 1\n",
    "    \n",
    "    #The function to test the best weights found by training on the test data\n",
    "    def test(self, data_points):\n",
    "        error = 0\n",
    "        for d in data_points:\n",
    "            input_dat = d[:2]\n",
    "#             input_dat.append(math.sin(input_dat[0]))\n",
    "#             input_dat.append(math.sin(input_dat[1]))\n",
    "#             input_dat.append((input_dat[0]) ** 2)\n",
    "#             input_dat.append((input_dat[1]) ** 2)\n",
    "            target = d[2]\n",
    "            weight_arr = [self.gbest_weights]\n",
    "            pred = make_prediction(weight_arr, input_dat, self.conn_layers, self.shape)\n",
    "            error += (target - pred) ** 2\n",
    "        mse = error / len(data_points)\n",
    "        return mse\n",
    "\n",
    "######### Helper functions for the Neural_Net class    \n",
    "\n",
    "#The forward propagation function\n",
    "def make_prediction(weight_arr, input_dat, conn_layers, shape):\n",
    "    weight_layers = [] #This is a list to store arrays of weights that correspond to each layer of the network\n",
    "    for i in conn_layers[::-1]:                    #Starting from the end of the list specifying the amount of connections per layer\n",
    "        weight_arr = np.split(weight_arr[0], [-i]) #We split the first item in the list (this is why the weight array has to be passed as a singleton list)\n",
    "                                                   #into 2, taking the last 'i' elements and making them seperate\n",
    "        weight_layers.append(weight_arr[1])        #This then is a list with 2 things in, the 2nd of which, is the last 'i' weights of the remaining weights array\n",
    "                                                   #This 2nd item is added to the weight layers.\n",
    "    weight_layers.reverse() #Which has to be reversed once it's filled, as we started at the end of the connection layers\n",
    "                            #We did this due to how split works and the logic of splitting the array\n",
    "    for i in range(len(shape)):\n",
    "        weight_matrix = np.array(np.split(weight_layers[i], shape[i])) #Then each item in the weight layers is split depending on the amount of neurons in that layer\n",
    "        input_dat =  weight_matrix.dot(input_dat) #Which forms a matrix which is multiplied by the input to that layer\n",
    "    output = weight_layers[-1].dot(input_dat) #The final matrix multiplication has to be done separately as the length of shape is one less\n",
    "                                              #than the number of layers we have connections for\n",
    "    return sigmoid(output) #the result is returned after being put through a sigmoid function\n",
    "\n",
    "#The chosen activation function is sigmoid\n",
    "def sigmoid(x):\n",
    "    return 1/(1 + np.exp(-x))"
   ]
  },
  {
   "cell_type": "code",
   "execution_count": 87,
   "metadata": {
    "scrolled": true
   },
   "outputs": [],
   "source": [
    "usable_data = []\n",
    "for d in data:\n",
    "    usable_data.append([float(i) for i in d])\n",
    "#Turning the list of strings stored from reading the .dat file into a list of floats"
   ]
  },
  {
   "cell_type": "code",
   "execution_count": 88,
   "metadata": {
    "scrolled": true
   },
   "outputs": [],
   "source": [
    "class0 = []\n",
    "class1 = []\n",
    "for d in usable_data:#We separate the data into lists of the 2 classes\n",
    "    if (d[2] == 0.0):\n",
    "        class0.append(d)\n",
    "    else:\n",
    "        class1.append(d)\n",
    "training = []\n",
    "testing = []\n",
    "for i in range(len(class0) // 2):#Then randomly assign half of each class to be training data\n",
    "    training.append(class0.pop(np.random.randint(len(class0))))\n",
    "    training.append(class1.pop(np.random.randint(len(class1))))\n",
    "testing = class0 + class1 #The rest is test data"
   ]
  },
  {
   "cell_type": "code",
   "execution_count": 57,
   "metadata": {},
   "outputs": [],
   "source": [
    "ann1 = neural_net(30, 4, [6], 2000)\n",
    "ann1.train(training)"
   ]
  },
  {
   "cell_type": "code",
   "execution_count": 58,
   "metadata": {},
   "outputs": [
    {
     "name": "stdout",
     "output_type": "stream",
     "text": [
      "0.37121212928886493\n"
     ]
    }
   ],
   "source": [
    "mse1 = ann1.test(testing)\n",
    "print(mse1)"
   ]
  },
  {
   "cell_type": "code",
   "execution_count": 59,
   "metadata": {},
   "outputs": [],
   "source": [
    "ann2 = neural_net(30, 4, [6], 2000)\n",
    "ann2.train(training)"
   ]
  },
  {
   "cell_type": "code",
   "execution_count": 60,
   "metadata": {},
   "outputs": [
    {
     "name": "stdout",
     "output_type": "stream",
     "text": [
      "0.424242086911269\n"
     ]
    }
   ],
   "source": [
    "mse2 = ann2.test(testing)\n",
    "print(mse2)"
   ]
  },
  {
   "cell_type": "code",
   "execution_count": 61,
   "metadata": {},
   "outputs": [],
   "source": [
    "ann3 = neural_net(30, 4, [6], 2000)\n",
    "ann3.train(training)"
   ]
  },
  {
   "cell_type": "code",
   "execution_count": 62,
   "metadata": {},
   "outputs": [
    {
     "name": "stdout",
     "output_type": "stream",
     "text": [
      "0.4242424242424239\n"
     ]
    }
   ],
   "source": [
    "mse3 = ann3.test(testing)\n",
    "print(mse3)"
   ]
  },
  {
   "cell_type": "code",
   "execution_count": 63,
   "metadata": {},
   "outputs": [],
   "source": [
    "ann4 = neural_net(30, 4, [6], 2000)\n",
    "ann4.train(training)"
   ]
  },
  {
   "cell_type": "code",
   "execution_count": 64,
   "metadata": {},
   "outputs": [
    {
     "name": "stdout",
     "output_type": "stream",
     "text": [
      "0.3787878787878788\n"
     ]
    }
   ],
   "source": [
    "mse4 = ann4.test(testing)\n",
    "print(mse4)"
   ]
  },
  {
   "cell_type": "code",
   "execution_count": 67,
   "metadata": {},
   "outputs": [],
   "source": [
    "ann_layer1 = neural_net(30, 2, [8,2], 1000)\n",
    "ann_layer2 = neural_net(30, 2, [8,4], 1000)\n",
    "ann_layer3 = neural_net(30, 2, [8,4,2], 1000)\n",
    "ann_layer4 = neural_net(30, 2, [8,6], 1000)\n",
    "ann_layer5 = neural_net(30, 2, [8,6,2], 1000)\n",
    "ann_layer6 = neural_net(30, 2, [8,6,4], 1000)\n",
    "ann_layer7 = neural_net(30, 2, [6,4], 1000)\n",
    "ann_layer8 = neural_net(30, 2, [6,4,2], 1000)\n",
    "ann_layer9 = neural_net(30, 2, [4,2], 1000)\n",
    "ann_layer10 = neural_net(30, 2, [6,8], 1000)\n",
    "ann_layer11 = neural_net(30, 2, [6,8,2], 1000)\n",
    "ann_layer12 = neural_net(30, 2, [4,6], 1000)\n",
    "ann_layer13 = neural_net(30, 2, [4,6,2], 1000)\n",
    "ann_layer14 = neural_net(30, 2, [4,8], 1000)\n",
    "ann_layer15 = neural_net(30, 2, [4,8,2], 1000)"
   ]
  },
  {
   "cell_type": "code",
   "execution_count": 68,
   "metadata": {},
   "outputs": [],
   "source": [
    "ann_layer1.train(training)\n",
    "ann_layer2.train(training)\n",
    "ann_layer3.train(training)\n",
    "ann_layer4.train(training)\n",
    "ann_layer5.train(training)"
   ]
  },
  {
   "cell_type": "code",
   "execution_count": 69,
   "metadata": {},
   "outputs": [
    {
     "name": "stdout",
     "output_type": "stream",
     "text": [
      "0.24353086613990965\n",
      "0.5256561434614384\n",
      "0.5254552297939823\n",
      "0.5242722427856884\n",
      "0.53027194700957\n"
     ]
    }
   ],
   "source": [
    "# ann_layer6.train(training)\n",
    "# ann_layer7.train(training)\n",
    "# ann_layer8.train(training)\n",
    "# ann_layer9.train(training)\n",
    "# ann_layer10.train(training)\n",
    "mse_layer1 = ann_layer1.test(testing)\n",
    "print(mse_layer1)\n",
    "mse_layer2 = ann_layer2.test(testing)\n",
    "print(mse_layer2)\n",
    "mse_layer3 = ann_layer3.test(testing)\n",
    "print(mse_layer3)\n",
    "mse_layer4 = ann_layer4.test(testing)\n",
    "print(mse_layer4)\n",
    "mse_layer5 = ann_layer5.test(testing)\n",
    "print(mse_layer5)"
   ]
  },
  {
   "cell_type": "code",
   "execution_count": 70,
   "metadata": {},
   "outputs": [],
   "source": [
    "ann1_layer1 = neural_net(30, 2, [8,2], 1000)\n",
    "ann1_layer1.train(training)"
   ]
  },
  {
   "cell_type": "code",
   "execution_count": 71,
   "metadata": {},
   "outputs": [
    {
     "data": {
      "text/plain": [
       "0.5222835014747497"
      ]
     },
     "execution_count": 71,
     "metadata": {},
     "output_type": "execute_result"
    }
   ],
   "source": [
    "ann1_layer1.test(testing)"
   ]
  },
  {
   "cell_type": "code",
   "execution_count": null,
   "metadata": {},
   "outputs": [],
   "source": []
  }
 ],
 "metadata": {
  "kernelspec": {
   "display_name": "Python 3",
   "language": "python",
   "name": "python3"
  },
  "language_info": {
   "codemirror_mode": {
    "name": "ipython",
    "version": 3
   },
   "file_extension": ".py",
   "mimetype": "text/x-python",
   "name": "python",
   "nbconvert_exporter": "python",
   "pygments_lexer": "ipython3",
   "version": "3.7.4"
  }
 },
 "nbformat": 4,
 "nbformat_minor": 2
}
