{
 "cells": [
  {
   "cell_type": "code",
   "execution_count": 17,
   "metadata": {},
   "outputs": [],
   "source": [
    "import numpy as np\n",
    "import matplotlib.pyplot as plt"
   ]
  },
  {
   "cell_type": "code",
   "execution_count": 16,
   "metadata": {},
   "outputs": [
    {
     "name": "stdout",
     "output_type": "stream",
     "text": [
      "['4.47485', '-0.89004', '1']\n",
      "['-4.47485', '0.89004', '0']\n",
      "['4.50000', '0.00007', '1']\n",
      "['-4.50000', '-0.00007', '0']\n",
      "['4.35222', '0.86578', '1']\n",
      "['-4.35222', '-0.86578', '0']\n",
      "['4.04195', '1.67430', '1']\n",
      "['-4.04195', '-1.67430', '0']\n",
      "['3.58567', '2.39595', '1']\n",
      "['-3.58567', '-2.39595', '0']\n",
      "['3.00515', '3.00525', '1']\n",
      "['-3.00515', '-3.00525', '0']\n",
      "['2.32639', '3.48182', '1']\n",
      "['-2.32639', '-3.48182', '0']\n",
      "['1.57850', '3.81103', '1']\n",
      "['-1.57850', '-3.81103', '0']\n",
      "['0.79248', '3.98445', '1']\n",
      "['-0.79248', '-3.98445', '0']\n",
      "['-0.00007', '4.00000', '1']\n",
      "['0.00007', '-4.00000', '0']\n"
     ]
    }
   ],
   "source": [
    "data = [i.strip().split() for i in open(\"two_spirals.dat\").readlines()]\n",
    "for i in range(20):\n",
    "    print(data[i])\n",
    "# print(data[-2])"
   ]
  },
  {
   "cell_type": "code",
   "execution_count": 20,
   "metadata": {},
   "outputs": [],
   "source": [
    "x0 = []\n",
    "y0 = []\n",
    "x1 = []\n",
    "y1 = []\n",
    "\n",
    "for i in data:\n",
    "    if (i[2] == '0'):\n",
    "        x0.append(float(i[0]))\n",
    "        y0.append(float(i[1]))\n",
    "    else:\n",
    "        x1.append(float(i[0]))\n",
    "        y1.append(float(i[1]))\n"
   ]
  },
  {
   "cell_type": "code",
   "execution_count": 19,
   "metadata": {},
   "outputs": [
    {
     "data": {
      "image/png": "[encoded data removed]",
      "text/plain": [
       "<Figure size 432x288 with 1 Axes>"
      ]
     },
     "metadata": {
      "needs_background": "light"
     },
     "output_type": "display_data"
    }
   ],
   "source": [
    "plt.scatter(x0, y0, c='red')\n",
    "plt.scatter(x1, y1, c='blue')\n",
    "plt.show()"
   ]
  },
  {
   "cell_type": "code",
   "execution_count": 21,
   "metadata": {},
   "outputs": [],
   "source": [
    "def sigmoid(x):\n",
    "    return 1/(1 + np.exp(-x))"
   ]
  },
  {
   "cell_type": "code",
   "execution_count": 101,
   "metadata": {},
   "outputs": [],
   "source": [
    "def initialise_particle():\n",
    "    n = 4 #no. of neurons\n",
    "    i = 2 #no. of inputs\n",
    "    weights = np.random.randn(i*n+n)\n",
    "    return weights\n",
    "a = np.array([[1,2],\n",
    "              [2,3],\n",
    "              [1,4],\n",
    "              [5,2]])\n",
    "b = np.array([2,3])"
   ]
  },
  {
   "cell_type": "code",
   "execution_count": 102,
   "metadata": {},
   "outputs": [
    {
     "name": "stdout",
     "output_type": "stream",
     "text": [
      "[[1 2]\n",
      " [2 3]\n",
      " [1 4]\n",
      " [5 2]]\n",
      "2\n"
     ]
    }
   ],
   "source": [
    "print(a)\n",
    "print(a.ndim)"
   ]
  },
  {
   "cell_type": "code",
   "execution_count": 103,
   "metadata": {},
   "outputs": [
    {
     "data": {
      "text/plain": [
       "array([2, 3])"
      ]
     },
     "execution_count": 103,
     "metadata": {},
     "output_type": "execute_result"
    }
   ],
   "source": [
    "b"
   ]
  },
  {
   "cell_type": "code",
   "execution_count": 104,
   "metadata": {},
   "outputs": [
    {
     "name": "stdout",
     "output_type": "stream",
     "text": [
      "[ 8 13 14 16]\n",
      "140\n"
     ]
    }
   ],
   "source": [
    "# c = a.transpose()\n",
    "# c\n",
    "c = a.dot(b)\n",
    "print(c)\n",
    "print(c.dot(np.array([1,2,3,4])))"
   ]
  },
  {
   "cell_type": "code",
   "execution_count": 105,
   "metadata": {},
   "outputs": [
    {
     "name": "stdout",
     "output_type": "stream",
     "text": [
      "[[1 2]\n",
      " [2 3]\n",
      " [1 4]\n",
      " [5 2]]\n",
      "[2 4 1 3]\n"
     ]
    }
   ],
   "source": [
    "d = np.array([1,2,2,3,1,4,5,2,2,4,1,3])\n",
    "layer2 = np.split(d, [-4])\n",
    "layer1 = np.array(np.split(layer2[0], 4))\n",
    "layer2 = np.array(layer2[1])\n",
    "print(layer1)\n",
    "print(layer2)"
   ]
  },
  {
   "cell_type": "code",
   "execution_count": 106,
   "metadata": {},
   "outputs": [
    {
     "name": "stdout",
     "output_type": "stream",
     "text": [
      "[ 8 13 14 16]\n",
      "130\n"
     ]
    }
   ],
   "source": [
    "e = layer1.dot(b)\n",
    "print(e)\n",
    "print(e.dot(layer2))"
   ]
  },
  {
   "cell_type": "code",
   "execution_count": 109,
   "metadata": {},
   "outputs": [
    {
     "name": "stdout",
     "output_type": "stream",
     "text": [
      "0.002141164640053716\n"
     ]
    }
   ],
   "source": [
    "def make_prediction(x):\n",
    "    p1 = initialise_particle()\n",
    "    l2 = np.split(p1, [-4])\n",
    "    l1 = np.array(np.split(l2[0], 4))\n",
    "    l2 = np.array(l2[1])\n",
    "    n = l1.dot(x)\n",
    "    r = n.dot(l2)\n",
    "    return sigmoid(r)\n",
    "pred = make_prediction(b)\n",
    "print(pred)"
   ]
  },
  {
   "cell_type": "code",
   "execution_count": 141,
   "metadata": {},
   "outputs": [],
   "source": [
    "class Particle:\n",
    "    \n",
    "    cognitive_c = 2.0\n",
    "    social_c = 2.0\n",
    "    velocity_c = 1.0\n",
    "    \n",
    "    def __init__(self, i, n):\n",
    "        self.i = i\n",
    "        self.n = n\n",
    "        self.weights = np.array([0.5, 0.2, 0.1, 0.8])#np.random.randn(i*n+n)\n",
    "        self.velocity = np.array([0, 0, 0.5, 0.2])#np.random.randn(i*n+n)\n",
    "        self.best = self.weights\n",
    "    \n",
    "    def update_velocity(self, gbest):\n",
    "        rv = 0.5 #2 * np.random.random()\n",
    "        rc = 1   #2 * np.random.random()\n",
    "        rs = 2   #2 * np.random.random()\n",
    "        inertia = self.velocity_c * rv * self.velocity\n",
    "        self.velocity_c = self.velocity_c - 0.5\n",
    "        cognitive = self.cognitive_c * rc * (self.best - self.weights)\n",
    "        social = self.social_c * rs * (gbest - self.weights)\n",
    "        self.velocity = inertia + cognitive + social\n",
    "        \n",
    "    def update_weights(self):\n",
    "        self.weights = self.weights + self.velocity"
   ]
  },
  {
   "cell_type": "code",
   "execution_count": 142,
   "metadata": {},
   "outputs": [
    {
     "name": "stdout",
     "output_type": "stream",
     "text": [
      "[0.5 0.2 0.1 0.8]\n",
      "[0.  0.  0.5 0.2]\n",
      "[ 2.   -0.8   1.85  0.1 ]\n"
     ]
    }
   ],
   "source": [
    "p1 = Particle(1, 2)\n",
    "print(p1.weights)\n",
    "print(p1.velocity)\n",
    "gbest = np.array([1, 0, 0.5, 0.8])\n",
    "p1.update_velocity(gbest)\n",
    "print(p1.velocity)"
   ]
  },
  {
   "cell_type": "code",
   "execution_count": 143,
   "metadata": {},
   "outputs": [
    {
     "name": "stdout",
     "output_type": "stream",
     "text": [
      "[ 2.5    -1.      2.0625  0.025 ]\n"
     ]
    }
   ],
   "source": [
    "p1.update_velocity(gbest)\n",
    "print(p1.velocity)"
   ]
  },
  {
   "cell_type": "code",
   "execution_count": 144,
   "metadata": {},
   "outputs": [
    {
     "data": {
      "text/plain": [
       "array([ 2.5   , -1.    ,  2.0625,  0.025 ])"
      ]
     },
     "execution_count": 144,
     "metadata": {},
     "output_type": "execute_result"
    }
   ],
   "source": [
    "p1.velocity"
   ]
  },
  {
   "cell_type": "code",
   "execution_count": 145,
   "metadata": {},
   "outputs": [
    {
     "data": {
      "text/plain": [
       "array([0.5, 0.2, 0.1, 0.8])"
      ]
     },
     "execution_count": 145,
     "metadata": {},
     "output_type": "execute_result"
    }
   ],
   "source": [
    "p1.weights"
   ]
  },
  {
   "cell_type": "code",
   "execution_count": 146,
   "metadata": {},
   "outputs": [
    {
     "data": {
      "text/plain": [
       "array([ 3.    , -0.8   ,  2.1625,  0.825 ])"
      ]
     },
     "execution_count": 146,
     "metadata": {},
     "output_type": "execute_result"
    }
   ],
   "source": [
    "p1.update_weights()\n",
    "p1.weights"
   ]
  },
  {
   "cell_type": "code",
   "execution_count": 155,
   "metadata": {},
   "outputs": [
    {
     "name": "stdout",
     "output_type": "stream",
     "text": [
      "130\n",
      "1.0\n"
     ]
    }
   ],
   "source": [
    "class neural_net:\n",
    "    \n",
    "    def __init__(self, n, data):\n",
    "        self.n = n\n",
    "        self.input = data[:2]\n",
    "        self.target = data[2]\n",
    "        \n",
    "    def feed_forward(self, weights):\n",
    "        layer2 = np.split(weights, [-self.n])\n",
    "        layer1 = np.array(np.split(layer2[0], self.n))\n",
    "        layer2 = np.array(layer2[1])\n",
    "        n_vector = layer1.dot(self.input)\n",
    "        result = n_vector.dot(layer2)\n",
    "        return sigmoid(result)\n",
    "        \n",
    "test_weights = np.array([1,2,2,3,1,4,5,2,2,4,1,3])\n",
    "test_input = np.array([2,3,1])\n",
    "ann = neural_net(4, test_input)\n",
    "prediction = ann.feed_forward(test_weights)\n",
    "print(prediction)\n",
    "# def make_prediction(x):\n",
    "#     p1 = initialise_particle()\n",
    "#     l2 = np.split(p1, [-4])\n",
    "#     l1 = np.array(np.split(l2[0], 4))\n",
    "#     l2 = np.array(l2[1])\n",
    "#     n = l1.dot(x)\n",
    "#     r = n.dot(l2)\n",
    "#     return sigmoid(r)"
   ]
  },
  {
   "cell_type": "code",
   "execution_count": null,
   "metadata": {},
   "outputs": [],
   "source": []
  }
 ],
 "metadata": {
  "kernelspec": {
   "display_name": "Python 3",
   "language": "python",
   "name": "python3"
  },
  "language_info": {
   "codemirror_mode": {
    "name": "ipython",
    "version": 3
   },
   "file_extension": ".py",
   "mimetype": "text/x-python",
   "name": "python",
   "nbconvert_exporter": "python",
   "pygments_lexer": "ipython3",
   "version": "3.7.4"
  }
 },
 "nbformat": 4,
 "nbformat_minor": 2
}
