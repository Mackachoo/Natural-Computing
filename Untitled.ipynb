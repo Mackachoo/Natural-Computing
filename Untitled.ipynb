{
 "cells": [
  {
   "cell_type": "code",
   "execution_count": 1,
   "metadata": {},
   "outputs": [],
   "source": [
    "import numpy as np\n",
    "import matplotlib.pyplot as plt"
   ]
  },
  {
   "cell_type": "code",
   "execution_count": 2,
   "metadata": {},
   "outputs": [
    {
     "name": "stdout",
     "output_type": "stream",
     "text": [
      "['4.47485', '-0.89004', '1']\n",
      "['-4.47485', '0.89004', '0']\n",
      "['4.50000', '0.00007', '1']\n",
      "['-4.50000', '-0.00007', '0']\n",
      "['4.35222', '0.86578', '1']\n",
      "['-4.35222', '-0.86578', '0']\n",
      "['4.04195', '1.67430', '1']\n",
      "['-4.04195', '-1.67430', '0']\n",
      "['3.58567', '2.39595', '1']\n",
      "['-3.58567', '-2.39595', '0']\n",
      "['3.00515', '3.00525', '1']\n",
      "['-3.00515', '-3.00525', '0']\n",
      "['2.32639', '3.48182', '1']\n",
      "['-2.32639', '-3.48182', '0']\n",
      "['1.57850', '3.81103', '1']\n",
      "['-1.57850', '-3.81103', '0']\n",
      "['0.79248', '3.98445', '1']\n",
      "['-0.79248', '-3.98445', '0']\n",
      "['-0.00007', '4.00000', '1']\n",
      "['0.00007', '-4.00000', '0']\n"
     ]
    }
   ],
   "source": [
    "data = [i.strip().split() for i in open(\"two_spirals.dat\").readlines()]\n",
    "for i in range(20):\n",
    "    print(data[i])\n",
    "# print(data[-2])"
   ]
  },
  {
   "cell_type": "code",
   "execution_count": 3,
   "metadata": {},
   "outputs": [],
   "source": [
    "x0 = []\n",
    "y0 = []\n",
    "x1 = []\n",
    "y1 = []\n",
    "\n",
    "for i in data:\n",
    "    if (i[2] == '0'):\n",
    "        x0.append(float(i[0]))\n",
    "        y0.append(float(i[1]))\n",
    "    else:\n",
    "        x1.append(float(i[0]))\n",
    "        y1.append(float(i[1]))\n"
   ]
  },
  {
   "cell_type": "code",
   "execution_count": 4,
   "metadata": {},
   "outputs": [
    {
     "data": {
      "image/png": "[encoded data removed]",
      "text/plain": [
       "<Figure size 432x288 with 1 Axes>"
      ]
     },
     "metadata": {
      "needs_background": "light"
     },
     "output_type": "display_data"
    }
   ],
   "source": [
    "plt.scatter(x0, y0, c='red')\n",
    "plt.scatter(x1, y1, c='blue')\n",
    "plt.show()"
   ]
  },
  {
   "cell_type": "code",
   "execution_count": 5,
   "metadata": {},
   "outputs": [],
   "source": [
    "def sigmoid(x):\n",
    "    return 1/(1 + np.exp(-x))"
   ]
  },
  {
   "cell_type": "code",
   "execution_count": 6,
   "metadata": {},
   "outputs": [],
   "source": [
    "def initialise_particle():\n",
    "    n = 4 #no. of neurons\n",
    "    i = 2 #no. of inputs\n",
    "    weights = np.random.randn(i*n+n)\n",
    "    return weights\n",
    "a = np.array([[1,2],\n",
    "              [2,3],\n",
    "              [1,4],\n",
    "              [5,2]])\n",
    "b = np.array([2,3])"
   ]
  },
  {
   "cell_type": "code",
   "execution_count": 7,
   "metadata": {},
   "outputs": [
    {
     "name": "stdout",
     "output_type": "stream",
     "text": [
      "[[1 2]\n",
      " [2 3]\n",
      " [1 4]\n",
      " [5 2]]\n",
      "2\n"
     ]
    }
   ],
   "source": [
    "print(a)\n",
    "print(a.ndim)"
   ]
  },
  {
   "cell_type": "code",
   "execution_count": 8,
   "metadata": {},
   "outputs": [
    {
     "data": {
      "text/plain": [
       "array([2, 3])"
      ]
     },
     "execution_count": 8,
     "metadata": {},
     "output_type": "execute_result"
    }
   ],
   "source": [
    "b"
   ]
  },
  {
   "cell_type": "code",
   "execution_count": 9,
   "metadata": {},
   "outputs": [
    {
     "name": "stdout",
     "output_type": "stream",
     "text": [
      "[ 8 13 14 16]\n",
      "140\n"
     ]
    }
   ],
   "source": [
    "# c = a.transpose()\n",
    "# c\n",
    "c = a.dot(b)\n",
    "print(c)\n",
    "print(c.dot(np.array([1,2,3,4])))"
   ]
  },
  {
   "cell_type": "code",
   "execution_count": 10,
   "metadata": {},
   "outputs": [
    {
     "name": "stdout",
     "output_type": "stream",
     "text": [
      "[[1 2]\n",
      " [2 3]\n",
      " [1 4]\n",
      " [5 2]]\n",
      "[2 4 1 3]\n"
     ]
    }
   ],
   "source": [
    "d = np.array([1,2,2,3,1,4,5,2,2,4,1,3])\n",
    "layer2 = np.split(d, [-4])\n",
    "layer1 = np.array(np.split(layer2[0], 4))\n",
    "layer2 = np.array(layer2[1])\n",
    "print(layer1)\n",
    "print(layer2)"
   ]
  },
  {
   "cell_type": "code",
   "execution_count": 11,
   "metadata": {},
   "outputs": [
    {
     "name": "stdout",
     "output_type": "stream",
     "text": [
      "[ 8 13 14 16]\n",
      "130\n"
     ]
    }
   ],
   "source": [
    "e = layer1.dot(b)\n",
    "print(e)\n",
    "print(e.dot(layer2))"
   ]
  },
  {
   "cell_type": "code",
   "execution_count": 12,
   "metadata": {},
   "outputs": [
    {
     "name": "stdout",
     "output_type": "stream",
     "text": [
      "0.9961494194184296\n"
     ]
    }
   ],
   "source": [
    "def make_prediction(x):\n",
    "    p1 = initialise_particle()\n",
    "    l2 = np.split(p1, [-4])\n",
    "    l1 = np.array(np.split(l2[0], 4))\n",
    "    l2 = np.array(l2[1])\n",
    "    n = l1.dot(x)\n",
    "    r = n.dot(l2)\n",
    "    return sigmoid(r)\n",
    "pred = make_prediction(b)\n",
    "print(pred)"
   ]
  },
  {
   "cell_type": "code",
   "execution_count": 22,
   "metadata": {},
   "outputs": [],
   "source": [
    "class Particle:\n",
    "    \n",
    "    cognitive_c = 2.0\n",
    "    social_c = 2.0\n",
    "    velocity_c = 1.0\n",
    "    \n",
    "    def __init__(self, i, n):\n",
    "        self.i = i\n",
    "        self.n = n\n",
    "        self.weights = np.random.randn(i*n+n)#np.array([0.5, 0.2, 0.1, 0.8])\n",
    "        self.velocity = np.array([0, 0, 0.5, 0.2])#np.random.randn(i*n+n)\n",
    "        self.best = self.weights.copy()\n",
    "    \n",
    "    def update_velocity(self, gbest):\n",
    "        rv = 0.5 #2 * np.random.random()\n",
    "        rc = 1   #2 * np.random.random()\n",
    "        rs = 2   #2 * np.random.random()\n",
    "        inertia = self.velocity_c * rv * self.velocity\n",
    "        self.velocity_c = self.velocity_c - 0.5\n",
    "        cognitive = self.cognitive_c * rc * (self.best - self.weights)\n",
    "        social = self.social_c * rs * (gbest - self.weights)\n",
    "        self.velocity = inertia + cognitive + social\n",
    "        \n",
    "    def update_weights(self):\n",
    "        self.weights = self.weights + self.velocity"
   ]
  },
  {
   "cell_type": "code",
   "execution_count": 14,
   "metadata": {},
   "outputs": [
    {
     "name": "stdout",
     "output_type": "stream",
     "text": [
      "[0.5 0.2 0.1 0.8]\n",
      "[0.  0.  0.5 0.2]\n",
      "[ 2.   -0.8   1.85  0.1 ]\n"
     ]
    }
   ],
   "source": [
    "p1 = Particle(1, 2)\n",
    "print(p1.weights)\n",
    "print(p1.velocity)\n",
    "gbest = np.array([1, 0, 0.5, 0.8])\n",
    "p1.update_velocity(gbest)\n",
    "print(p1.velocity)"
   ]
  },
  {
   "cell_type": "code",
   "execution_count": 15,
   "metadata": {},
   "outputs": [
    {
     "name": "stdout",
     "output_type": "stream",
     "text": [
      "[ 2.5    -1.      2.0625  0.025 ]\n"
     ]
    }
   ],
   "source": [
    "p1.update_velocity(gbest)\n",
    "print(p1.velocity)"
   ]
  },
  {
   "cell_type": "code",
   "execution_count": 16,
   "metadata": {},
   "outputs": [
    {
     "data": {
      "text/plain": [
       "array([ 2.5   , -1.    ,  2.0625,  0.025 ])"
      ]
     },
     "execution_count": 16,
     "metadata": {},
     "output_type": "execute_result"
    }
   ],
   "source": [
    "p1.velocity"
   ]
  },
  {
   "cell_type": "code",
   "execution_count": 17,
   "metadata": {},
   "outputs": [
    {
     "data": {
      "text/plain": [
       "array([0.5, 0.2, 0.1, 0.8])"
      ]
     },
     "execution_count": 17,
     "metadata": {},
     "output_type": "execute_result"
    }
   ],
   "source": [
    "p1.weights"
   ]
  },
  {
   "cell_type": "code",
   "execution_count": 18,
   "metadata": {},
   "outputs": [
    {
     "data": {
      "text/plain": [
       "array([ 3.    , -0.8   ,  2.1625,  0.825 ])"
      ]
     },
     "execution_count": 18,
     "metadata": {},
     "output_type": "execute_result"
    }
   ],
   "source": [
    "p1.update_weights()\n",
    "p1.weights"
   ]
  },
  {
   "cell_type": "code",
   "execution_count": 19,
   "metadata": {},
   "outputs": [
    {
     "name": "stdout",
     "output_type": "stream",
     "text": [
      "1.0\n"
     ]
    }
   ],
   "source": [
    "class neural_net:\n",
    "    \n",
    "    def __init__(self, n, data):\n",
    "        self.n = n\n",
    "        self.input = data[:2]\n",
    "        self.target = data[2]\n",
    "        \n",
    "    def make_prediction(self, weights):\n",
    "        layer2 = np.split(weights, [-self.n])\n",
    "        layer1 = np.array(np.split(layer2[0], self.n))\n",
    "        layer2 = np.array(layer2[1])\n",
    "        n_vector = layer1.dot(self.input)\n",
    "        result = n_vector.dot(layer2)\n",
    "        return sigmoid(result)\n",
    "        \n",
    "test_weights = np.array([1,2,2,3,1,4,5,2,2,4,1,3])\n",
    "test_input = np.array([2,3,1])\n",
    "ann = neural_net(4, test_input)\n",
    "prediction = ann.make_prediction(test_weights)\n",
    "print(prediction)\n",
    "# def make_prediction(x):\n",
    "#     p1 = initialise_particle()\n",
    "#     l2 = np.split(p1, [-4])\n",
    "#     l1 = np.array(np.split(l2[0], 4))\n",
    "#     l2 = np.array(l2[1])\n",
    "#     n = l1.dot(x)\n",
    "#     r = n.dot(l2)\n",
    "#     return sigmoid(r)"
   ]
  },
  {
   "cell_type": "code",
   "execution_count": 24,
   "metadata": {},
   "outputs": [
    {
     "name": "stdout",
     "output_type": "stream",
     "text": [
      "[ 0.18397564 -0.44612627  0.61887082  0.81796647 -1.5543874  -0.1322024\n",
      "  0.14609388 -0.76838165 -0.08120125 -1.44351892  1.43364689 -1.34294925]\n",
      "[-2.06066033  0.15934903 -0.36597807  1.37994859 -0.97026784 -0.16677199\n",
      " -1.00685327 -2.38516157  1.28714212  0.41331948  0.72104701 -0.91011779]\n",
      "[ 0.32833496  0.39717327 -1.33042416  1.33339027 -0.74343667  1.32864462\n",
      " -0.3698449   0.30395048 -1.83223332  1.45717557 -0.44461071  0.37773721]\n",
      "[ 1.77766567  0.67718073  1.09108527  0.32250763  1.15579559  0.7289057\n",
      " -1.99117585 -0.66448215  0.90837407  0.40039882 -1.40784035 -0.80413091]\n",
      "[ 1.03187233  1.42434143  0.08376478 -1.40145598  0.10342218  1.09670545\n",
      " -1.21517485  0.41600572  0.5738936   0.74400333 -0.79868688 -1.74368918]\n",
      "[-0.44466666  1.17246094 -1.44410468 -0.08762167 -0.22717203  0.7617655\n",
      " -0.10067692  0.16220726  0.76608996  0.70420631  0.15808794  2.26186355]\n",
      "[-1.29512283 -0.84233924 -0.72195698 -0.92705511 -0.47328791 -0.71849969\n",
      " -2.77884377 -0.78698213  0.95047099 -0.1322847   0.45262393  0.42662435]\n",
      "[-1.76061029  1.16768051 -0.60361033  2.60584205  0.16790742  0.15950349\n",
      " -0.50362204 -1.84795953  0.70078374  0.83530433 -0.13344255 -2.24203339]\n",
      "[-0.80758143 -1.69374055  1.22974001  0.44391426 -1.65488893 -0.84513353\n",
      " -0.06572028  1.40142011 -1.29699555  1.20407174 -1.24453061  1.06125105]\n",
      "[ 0.15507467 -0.31409767  0.08747913 -2.08213771 -1.9128855  -1.83274879\n",
      " -1.74136366  1.62250679 -0.51743384 -0.29668617  0.4164729  -1.11281752]\n"
     ]
    }
   ],
   "source": [
    "list = []\n",
    "for i in range(10):\n",
    "    w = Particle(2, 4)\n",
    "    list.append(w)\n",
    "    \n",
    "for particle in list:\n",
    "    print(particle.weights)"
   ]
  },
  {
   "cell_type": "code",
   "execution_count": null,
   "metadata": {},
   "outputs": [],
   "source": []
  }
 ],
 "metadata": {
  "kernelspec": {
   "display_name": "Python 3",
   "language": "python",
   "name": "python3"
  },
  "language_info": {
   "codemirror_mode": {
    "name": "ipython",
    "version": 3
   },
   "file_extension": ".py",
   "mimetype": "text/x-python",
   "name": "python",
   "nbconvert_exporter": "python",
   "pygments_lexer": "ipython3",
   "version": "3.7.4"
  }
 },
 "nbformat": 4,
 "nbformat_minor": 2
}
