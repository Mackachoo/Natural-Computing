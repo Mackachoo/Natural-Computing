{
 "cells": [
  {
   "cell_type": "code",
   "execution_count": 1,
   "metadata": {},
   "outputs": [],
   "source": [
    "import numpy as np\n",
    "import matplotlib.pyplot as plt\n",
    "import math"
   ]
  },
  {
   "cell_type": "code",
   "execution_count": 2,
   "metadata": {},
   "outputs": [],
   "source": [
    "data = [i.strip().split() for i in open(\"two_spirals.dat\").readlines()]\n",
    "#Storing the 2 spirals data in the list 'data'"
   ]
  },
  {
   "cell_type": "code",
   "execution_count": 3,
   "metadata": {},
   "outputs": [
    {
     "data": {
      "image/png": "[encoded data removed]",
      "text/plain": [
       "<Figure size 432x288 with 1 Axes>"
      ]
     },
     "metadata": {
      "needs_background": "light"
     },
     "output_type": "display_data"
    }
   ],
   "source": [
    "x0 = []\n",
    "y0 = []\n",
    "x1 = []\n",
    "y1 = []\n",
    "\n",
    "for i in data:\n",
    "    if (i[2] == '0'):\n",
    "        x0.append(float(i[0]))\n",
    "        y0.append(float(i[1]))\n",
    "    else:\n",
    "        x1.append(float(i[0]))\n",
    "        y1.append(float(i[1]))\n",
    "\n",
    "plt.scatter(x0, y0, c='red')\n",
    "plt.scatter(x1, y1, c='blue')\n",
    "plt.show()\n",
    "#Scatter plot showing the 2 spirals"
   ]
  },
  {
   "cell_type": "code",
   "execution_count": 94,
   "metadata": {},
   "outputs": [],
   "source": [
    "class Particle:\n",
    "    \n",
    "    cognitive_c = 2.0\n",
    "    social_c = 2.02\n",
    "    velocity_c = 0.7\n",
    "    \n",
    "    best_MSE = 1.0\n",
    "    \n",
    "    def __init__(self, no_weights):\n",
    "        self.no_weights = no_weights\n",
    "        self.weights = np.random.uniform(low=-10.0, high=10.0, size=(no_weights))\n",
    "        self.velocity = np.random.uniform(low=-4.0, high=4.0, size=(no_weights))\n",
    "        self.best_weights = self.weights.copy()\n",
    "    \n",
    "    def update_velocity(self, gbest):\n",
    "        #rv = np.random.random()\n",
    "        rc = np.random.random()\n",
    "        rs = np.random.random()\n",
    "        inertia = self.velocity_c * self.velocity#rv * \n",
    "        #self.velocity_c = self.velocity_c * 0.95####################################################################\n",
    "        cognitive = self.cognitive_c * rc * (self.best_weights - self.weights)\n",
    "        social = self.social_c * rs * (gbest - self.weights)\n",
    "        self.velocity = inertia + cognitive + social\n",
    "        \n",
    "    def update_weights(self):\n",
    "        self.weights = self.weights + self.velocity\n",
    "        \n",
    "    def update_sbest(self, new_MSE):\n",
    "        if (new_MSE < self.best_MSE):\n",
    "            self.best_MSE = new_MSE\n",
    "            self.best_weights = self.weights.copy()"
   ]
  },
  {
   "cell_type": "code",
   "execution_count": 96,
   "metadata": {},
   "outputs": [
    {
     "name": "stdout",
     "output_type": "stream",
     "text": [
      "[ 4.82507432 -9.25470231  8.38070248  4.23651002 -5.16332881 -7.85973838\n",
      " -7.39209199 -9.82709311 -7.31145915 -9.61417418  3.91449893 -6.35624097]\n",
      "[ 4.82507432 -9.25470231  8.38070248  4.23651002 -5.16332881 -7.85973838\n",
      " -7.39209199 -9.82709311 -7.31145915 -9.61417418  3.91449893 -6.35624097]\n",
      "1.0\n",
      "\n",
      "[-4.42795106  2.53301982 -5.45298666 -2.94855013  2.46831304  4.78597717\n",
      "  2.57283858  5.57796507  5.07016194  6.02672666 -2.40706629  4.82931303]\n",
      "[ 4.82507432 -9.25470231  8.38070248  4.23651002 -5.16332881 -7.85973838\n",
      " -7.39209199 -9.82709311 -7.31145915 -9.61417418  3.91449893 -6.35624097]\n",
      "\n",
      "[-4.42795106  2.53301982 -5.45298666 -2.94855013  2.46831304  4.78597717\n",
      "  2.57283858  5.57796507  5.07016194  6.02672666 -2.40706629  4.82931303]\n",
      "0.8\n"
     ]
    }
   ],
   "source": [
    "p = Particle(12)\n",
    "print(p.weights)\n",
    "print(p.best_weights)\n",
    "print(p.best_MSE)\n",
    "print()\n",
    "gbest = [0,0,0,0,0,0,0,0,0,0,0,0]\n",
    "p.update_velocity(gbest)\n",
    "p.update_weights()\n",
    "print(p.weights)\n",
    "print(p.best_weights)\n",
    "print()\n",
    "p.update_sbest(0.8)\n",
    "print(p.weights)\n",
    "print(p.best_MSE)"
   ]
  },
  {
   "cell_type": "code",
   "execution_count": 109,
   "metadata": {},
   "outputs": [],
   "source": [
    "class neural_net:\n",
    "    \n",
    "    gbest_MSE = 1.0\n",
    "    gbest_weights = None\n",
    "    \n",
    "    \n",
    "    def __init__(self, no_particles, no_inputs, shape, no_iterations):\n",
    "        self.p_swarm = []\n",
    "        self.no_particles = no_particles\n",
    "        self.no_inputs = no_inputs\n",
    "        self.shape = shape\n",
    "        self.no_iterations = no_iterations\n",
    "        self.no_weights = 0\n",
    "        self.conn_layers = []\n",
    "        first_layer = self.no_inputs * self.shape[0]\n",
    "        self.no_weights += first_layer\n",
    "        self.conn_layers.append(first_layer)\n",
    "        for i in range(len(self.shape) - 1):\n",
    "            connections = shape[i] * shape[i+1]\n",
    "            self.no_weights += connections\n",
    "            self.conn_layers.append(connections)\n",
    "        self.no_weights += self.shape[-1]\n",
    "        self.conn_layers.append(self.shape[-1])\n",
    "        for i in range(no_particles):\n",
    "            p = Particle(self.no_weights)\n",
    "            self.p_swarm.append(p)\n",
    "            \n",
    "    def train(self, data_points):\n",
    "        while (self.no_iterations > 0):\n",
    "            #print(\"iterations left: \" + str(self.no_iterations))\n",
    "            for p in self.p_swarm:\n",
    "#                 print(\"Weights:\")\n",
    "#                 print(p.weights)\n",
    "#                 print()\n",
    "                error = 0\n",
    "                for d in data_points:\n",
    "                    input_dat = d[:2]\n",
    "                    input_dat.append(math.sin(input_dat[0]))\n",
    "                    input_dat.append(math.sin(input_dat[1]))\n",
    "                    target = d[2]\n",
    "                    weight_arr = [p.weights]\n",
    "                    pred = make_prediction(weight_arr, input_dat, self.conn_layers, self.shape)\n",
    "#                     print(\"Prediction vs target: \" + str(pred) + \" v \" + str(target))\n",
    "                    error += (target - pred) ** 2\n",
    "#                     print(\"Error: \" + str(error))\n",
    "                mse = error / len(data_points)\n",
    "#                 print(\"MSE = \" + str(mse))\n",
    "#                 print()\n",
    "#                 print(\"*******************************\")\n",
    "#                 print()\n",
    "                p.update_sbest(mse)\n",
    "                if (mse < self.gbest_MSE):\n",
    "                    self.gbest_MSE = mse\n",
    "                    self.gbest_weights = p.weights\n",
    "            if (self.no_iterations % 100 == 0):\n",
    "                print(\"Iterations left: \" + str(self.no_iterations))\n",
    "                print(\"Best weights\")\n",
    "                print(self.gbest_weights)\n",
    "                print(\"Best MSE\")\n",
    "                print(self.gbest_MSE)\n",
    "                print()\n",
    "                print()\n",
    "            for p in self.p_swarm:\n",
    "#                 print(\"Before:\")\n",
    "#                 print(p.weights)\n",
    "                p.update_velocity(self.gbest_weights)\n",
    "                p.update_weights()\n",
    "#                 print(\"After:\")\n",
    "#                 print(p.weights)\n",
    "#                 print()\n",
    "#                 print(\"####################################################################################\")\n",
    "            self.no_iterations -= 1\n",
    "                \n",
    "    def test(self, data_points):\n",
    "        cer = 0\n",
    "        for d in data_points:\n",
    "            input_dat = d[:2]\n",
    "            target = d[2]\n",
    "            pred = make_prediction(self.gbest_weights, input_dat, self.no_neurons)\n",
    "            error += abs(target - pred)\n",
    "        return cer\n",
    "\n",
    "def make_prediction(weight_arr, input_dat, conn_layers, shape):\n",
    "    weight_layers = []\n",
    "    for i in conn_layers[::-1]:\n",
    "        weight_arr = np.split(weight_arr[0], [-i])\n",
    "        weight_layers.append(weight_arr[1])\n",
    "    weight_layers.reverse()\n",
    "    for i in range(len(shape)):\n",
    "        weight_matrix = np.array(np.split(weight_layers[i], shape[i]))\n",
    "        input_dat =  weight_matrix.dot(input_dat)\n",
    "    output = weight_layers[-1].dot(input_dat)\n",
    "    return sigmoid(output)\n",
    "    \n",
    "#     layer2 = np.split(weights, [-no_neurons])\n",
    "#     layer1 = np.array(np.split(layer2[0], no_neurons))\n",
    "#     layer2 = np.array(layer2[1])\n",
    "#     n_vector = layer1.dot(input_dat)\n",
    "#     result = n_vector.dot(layer2)\n",
    "#     return sigmoid(result)\n",
    "    \n",
    "def sigmoid(x):\n",
    "    return 1/(1 + np.exp(-x))"
   ]
  },
  {
   "cell_type": "code",
   "execution_count": 110,
   "metadata": {
    "scrolled": true
   },
   "outputs": [
    {
     "name": "stdout",
     "output_type": "stream",
     "text": [
      "[-0.30822663 -5.35832794  8.8876809  -1.1031317   3.49020118 -6.82237042\n",
      " -1.73319797  1.29178787 -7.5300083   5.52840859 -6.82186628 -3.91775388\n",
      " -9.94535849  2.71222818 -7.90616939 -8.48383729  7.35234829 -6.7001374\n",
      "  3.02936237  1.11076033  9.22610509 -1.43994937  2.42461775  3.12833327\n",
      " -4.23846506 -7.02367602  6.64619763  7.73812817 -0.56204115  2.26393054]\n",
      "[ 9.3431973   0.88287653  5.56976367  1.88906581  5.93357664 -6.0131891\n",
      "  1.75602936 -0.78095929  7.37820557  2.51980587 -3.79924663  5.97502935\n",
      "  1.70152688  7.3331337  -5.69372634  7.45324948  4.81477626 -1.63397553\n",
      "  9.20338006  1.98633968  4.3549825   9.00828897 -0.05156641 -6.11968586\n",
      "  2.95517473  9.82965181  9.49305794 -9.38366832  7.39009952  6.49427017]\n",
      "[-0.2736842  -3.09048974 -8.17723451 -4.49390873 -4.96157672 -3.81461877\n",
      " -5.84923597 -6.55996637 -4.61305013 -3.45761049 -8.60785014 -3.99400475\n",
      " -9.94894195  6.74761377 -9.48977179  1.47743515 -5.90661414 -1.51006482\n",
      "  2.83926716  4.25313474 -7.06125003 -8.23179184  7.79934443  2.24232036\n",
      " -1.10753739 -7.14192563 -2.85258485  0.22111605  4.26484904 -6.16675494]\n",
      "[ 3.11730577 -0.956334    0.33772661 -1.73430674  8.24567973  8.25021031\n",
      " -1.37545983 -3.62661682  5.7708574  -3.11157175  3.11705285 -9.54749183\n",
      "  3.47293764 -9.87336125 -8.26019609  1.19129484  7.74631352  1.9187408\n",
      " -4.89372588  4.35738572 -2.9961528  -7.54107661  0.17369662 -7.96560633\n",
      " -9.09618435 -8.88338523  8.07477925 -5.54380839 -7.1501938  -3.6826999 ]\n"
     ]
    }
   ],
   "source": [
    "ann = neural_net(4, 4, [6], 2000)\n",
    "for p in ann.p_swarm:\n",
    "    print(p.weights)"
   ]
  },
  {
   "cell_type": "code",
   "execution_count": 111,
   "metadata": {
    "scrolled": true
   },
   "outputs": [],
   "source": [
    "use_data = []\n",
    "for d in data[:50]:\n",
    "    use_data.append([float(i) for i in d])"
   ]
  },
  {
   "cell_type": "code",
   "execution_count": 112,
   "metadata": {
    "scrolled": true
   },
   "outputs": [
    {
     "name": "stdout",
     "output_type": "stream",
     "text": [
      "Iterations left: 2000\n",
      "Best weights\n",
      "[-0.30822663 -5.35832794  8.8876809  -1.1031317   3.49020118 -6.82237042\n",
      " -1.73319797  1.29178787 -7.5300083   5.52840859 -6.82186628 -3.91775388\n",
      " -9.94535849  2.71222818 -7.90616939 -8.48383729  7.35234829 -6.7001374\n",
      "  3.02936237  1.11076033  9.22610509 -1.43994937  2.42461775  3.12833327\n",
      " -4.23846506 -7.02367602  6.64619763  7.73812817 -0.56204115  2.26393054]\n",
      "Best MSE\n",
      "0.32\n",
      "\n",
      "\n",
      "Iterations left: 1900\n",
      "Best weights\n",
      "[  2.95232298   0.77038659   8.53423573   0.99573079   7.69954486\n",
      " -10.92670298  -6.01736436   5.90690916  -7.12231479   2.51725177\n",
      "   1.27227054  -0.98705856  -1.62061799   3.27298571  -6.40247352\n",
      "  -3.49242448  13.27835754  -7.9087221    2.34510189  -2.35356224\n",
      "  16.18939879  -5.28839102   4.05035178   6.18907592  -2.11585987\n",
      "  -3.35957569   3.35481388  10.41091869   2.32657074   2.05669169]\n",
      "Best MSE\n",
      "0.16000297621223714\n",
      "\n",
      "\n",
      "Iterations left: 1800\n",
      "Best weights\n",
      "[  2.95355043   0.79745717   8.6067492    1.00789743   7.81786838\n",
      " -10.9915773   -6.08763821   6.04848502  -7.21644125   2.49258427\n",
      "   1.42414519  -1.02498411  -1.50312113   3.21613665  -6.33943381\n",
      "  -3.54725962  13.42314396  -7.97565599   2.25787884  -2.43952127\n",
      "  16.37024051  -5.43023291   4.06128792   6.30275505  -2.1575515\n",
      "  -3.46838912   3.29617627  10.60195642   2.28235651   2.07687512]\n",
      "Best MSE\n",
      "0.16000210600908646\n",
      "\n",
      "\n",
      "Iterations left: 1700\n",
      "Best weights\n",
      "[  2.95284577   0.79486141   8.60152439   1.0069618    7.80810895\n",
      " -10.98628877  -6.08193814   6.03697321  -7.20928021   2.49523427\n",
      "   1.41164364  -1.02231916  -1.51354381   3.22042407  -6.34466443\n",
      "  -3.544018    13.41176725  -7.97034307   2.26459866  -2.43249316\n",
      "  16.35593663  -5.41875038   4.06047925   6.29361173  -2.15456994\n",
      "  -3.46039464   3.30147296  10.58736455   2.28548672   2.07515127]\n",
      "Best MSE\n",
      "0.16000207804464586\n",
      "\n",
      "\n",
      "Iterations left: 1600\n",
      "Best weights\n",
      "[  2.9528347    0.79481386   8.60142278   1.00694373   7.80792517\n",
      " -10.98618886  -6.08183061   6.03675576  -7.20914343   2.49528154\n",
      "   1.41140802  -1.02226745  -1.5137374    3.22050624  -6.34476286\n",
      "  -3.54395207  13.41155077  -7.97024224   2.26472696  -2.43236064\n",
      "  16.35566487  -5.41853377   4.06046369   6.29343895  -2.15451225\n",
      "  -3.46024064   3.30157056  10.58708554   2.28554756   2.0751188 ]\n",
      "Best MSE\n",
      "0.1600020780393643\n",
      "\n",
      "\n",
      "Iterations left: 1500\n",
      "Best weights\n",
      "[  2.95283589   0.79482018   8.6014372    1.00694628   7.80795037\n",
      " -10.9862026   -6.08184537   6.03678567  -7.20916246   2.49527546\n",
      "   1.41144035  -1.02227477  -1.51371126   3.22049476  -6.34474938\n",
      "  -3.54396184  13.41158079  -7.97025618   2.26470911  -2.43237883\n",
      "  16.35570248  -5.41856352   4.06046587   6.29346272  -2.15452039\n",
      "  -3.46026227   3.30155751  10.58712442   2.28553893   2.07512326]\n",
      "Best MSE\n",
      "0.16000207803929214\n",
      "\n",
      "\n",
      "Iterations left: 1400\n",
      "Best weights\n",
      "[  2.95283589   0.79482018   8.6014372    1.00694628   7.80795037\n",
      " -10.9862026   -6.08184537   6.03678567  -7.20916246   2.49527546\n",
      "   1.41144035  -1.02227477  -1.51371126   3.22049476  -6.34474938\n",
      "  -3.54396184  13.41158079  -7.97025618   2.26470911  -2.43237883\n",
      "  16.35570248  -5.41856352   4.06046587   6.29346272  -2.15452039\n",
      "  -3.46026227   3.30155751  10.58712442   2.28553893   2.07512326]\n",
      "Best MSE\n",
      "0.16000207803929214\n",
      "\n",
      "\n",
      "Iterations left: 1300\n",
      "Best weights\n",
      "[  2.95283589   0.79482018   8.6014372    1.00694628   7.80795037\n",
      " -10.9862026   -6.08184537   6.03678567  -7.20916246   2.49527546\n",
      "   1.41144035  -1.02227477  -1.51371126   3.22049476  -6.34474938\n",
      "  -3.54396184  13.41158079  -7.97025618   2.26470911  -2.43237883\n",
      "  16.35570248  -5.41856352   4.06046587   6.29346272  -2.15452039\n",
      "  -3.46026227   3.30155751  10.58712442   2.28553893   2.07512326]\n",
      "Best MSE\n",
      "0.16000207803929214\n",
      "\n",
      "\n",
      "Iterations left: 1200\n",
      "Best weights\n",
      "[  2.95283589   0.79482018   8.6014372    1.00694628   7.80795037\n",
      " -10.9862026   -6.08184537   6.03678567  -7.20916246   2.49527546\n",
      "   1.41144035  -1.02227477  -1.51371126   3.22049476  -6.34474938\n",
      "  -3.54396184  13.41158079  -7.97025618   2.26470911  -2.43237883\n",
      "  16.35570248  -5.41856352   4.06046587   6.29346272  -2.15452039\n",
      "  -3.46026227   3.30155751  10.58712442   2.28553893   2.07512326]\n",
      "Best MSE\n",
      "0.16000207803929214\n",
      "\n",
      "\n",
      "Iterations left: 1100\n",
      "Best weights\n",
      "[  2.95283589   0.79482018   8.6014372    1.00694628   7.80795037\n",
      " -10.9862026   -6.08184537   6.03678567  -7.20916246   2.49527546\n",
      "   1.41144035  -1.02227477  -1.51371126   3.22049476  -6.34474938\n",
      "  -3.54396184  13.41158079  -7.97025618   2.26470911  -2.43237883\n",
      "  16.35570248  -5.41856352   4.06046587   6.29346272  -2.15452039\n",
      "  -3.46026227   3.30155751  10.58712442   2.28553893   2.07512326]\n",
      "Best MSE\n",
      "0.16000207803929214\n",
      "\n",
      "\n",
      "Iterations left: 1000\n",
      "Best weights\n",
      "[  2.95283589   0.79482018   8.6014372    1.00694628   7.80795037\n",
      " -10.9862026   -6.08184537   6.03678567  -7.20916246   2.49527546\n",
      "   1.41144035  -1.02227477  -1.51371126   3.22049476  -6.34474938\n",
      "  -3.54396184  13.41158079  -7.97025618   2.26470911  -2.43237883\n",
      "  16.35570248  -5.41856352   4.06046587   6.29346272  -2.15452039\n",
      "  -3.46026227   3.30155751  10.58712442   2.28553893   2.07512326]\n",
      "Best MSE\n",
      "0.16000207803929214\n",
      "\n",
      "\n",
      "Iterations left: 900\n",
      "Best weights\n",
      "[  2.95283589   0.79482018   8.6014372    1.00694628   7.80795037\n",
      " -10.9862026   -6.08184537   6.03678567  -7.20916246   2.49527546\n",
      "   1.41144035  -1.02227477  -1.51371126   3.22049476  -6.34474938\n",
      "  -3.54396184  13.41158079  -7.97025618   2.26470911  -2.43237883\n",
      "  16.35570248  -5.41856352   4.06046587   6.29346272  -2.15452039\n",
      "  -3.46026227   3.30155751  10.58712442   2.28553893   2.07512326]\n",
      "Best MSE\n",
      "0.16000207803929214\n",
      "\n",
      "\n",
      "Iterations left: 800\n",
      "Best weights\n",
      "[  2.95283589   0.79482018   8.6014372    1.00694628   7.80795037\n",
      " -10.9862026   -6.08184537   6.03678567  -7.20916246   2.49527546\n",
      "   1.41144035  -1.02227477  -1.51371126   3.22049476  -6.34474938\n",
      "  -3.54396184  13.41158079  -7.97025618   2.26470911  -2.43237883\n",
      "  16.35570248  -5.41856352   4.06046587   6.29346272  -2.15452039\n",
      "  -3.46026227   3.30155751  10.58712442   2.28553893   2.07512326]\n",
      "Best MSE\n",
      "0.16000207803929214\n",
      "\n",
      "\n",
      "Iterations left: 700\n",
      "Best weights\n",
      "[  2.95283589   0.79482018   8.6014372    1.00694628   7.80795037\n",
      " -10.9862026   -6.08184537   6.03678567  -7.20916246   2.49527546\n",
      "   1.41144035  -1.02227477  -1.51371126   3.22049476  -6.34474938\n",
      "  -3.54396184  13.41158079  -7.97025618   2.26470911  -2.43237883\n",
      "  16.35570248  -5.41856352   4.06046587   6.29346272  -2.15452039\n",
      "  -3.46026227   3.30155751  10.58712442   2.28553893   2.07512326]\n",
      "Best MSE\n",
      "0.16000207803929214\n",
      "\n",
      "\n",
      "Iterations left: 600\n",
      "Best weights\n",
      "[  2.95283589   0.79482018   8.6014372    1.00694628   7.80795037\n",
      " -10.9862026   -6.08184537   6.03678567  -7.20916246   2.49527546\n",
      "   1.41144035  -1.02227477  -1.51371126   3.22049476  -6.34474938\n",
      "  -3.54396184  13.41158079  -7.97025618   2.26470911  -2.43237883\n",
      "  16.35570248  -5.41856352   4.06046587   6.29346272  -2.15452039\n",
      "  -3.46026227   3.30155751  10.58712442   2.28553893   2.07512326]\n",
      "Best MSE\n",
      "0.16000207803929214\n",
      "\n",
      "\n",
      "Iterations left: 500\n",
      "Best weights\n",
      "[  2.95283589   0.79482018   8.6014372    1.00694628   7.80795037\n",
      " -10.9862026   -6.08184537   6.03678567  -7.20916246   2.49527546\n",
      "   1.41144035  -1.02227477  -1.51371126   3.22049476  -6.34474938\n",
      "  -3.54396184  13.41158079  -7.97025618   2.26470911  -2.43237883\n",
      "  16.35570248  -5.41856352   4.06046587   6.29346272  -2.15452039\n",
      "  -3.46026227   3.30155751  10.58712442   2.28553893   2.07512326]\n",
      "Best MSE\n",
      "0.16000207803929214\n",
      "\n",
      "\n",
      "Iterations left: 400\n",
      "Best weights\n",
      "[  2.95283589   0.79482018   8.6014372    1.00694628   7.80795037\n",
      " -10.9862026   -6.08184537   6.03678567  -7.20916246   2.49527546\n",
      "   1.41144035  -1.02227477  -1.51371126   3.22049476  -6.34474938\n",
      "  -3.54396184  13.41158079  -7.97025618   2.26470911  -2.43237883\n",
      "  16.35570248  -5.41856352   4.06046587   6.29346272  -2.15452039\n",
      "  -3.46026227   3.30155751  10.58712442   2.28553893   2.07512326]\n",
      "Best MSE\n",
      "0.16000207803929214\n",
      "\n",
      "\n",
      "Iterations left: 300\n",
      "Best weights\n",
      "[  2.95283589   0.79482018   8.6014372    1.00694628   7.80795037\n",
      " -10.9862026   -6.08184537   6.03678567  -7.20916246   2.49527546\n",
      "   1.41144035  -1.02227477  -1.51371126   3.22049476  -6.34474938\n",
      "  -3.54396184  13.41158079  -7.97025618   2.26470911  -2.43237883\n",
      "  16.35570248  -5.41856352   4.06046587   6.29346272  -2.15452039\n",
      "  -3.46026227   3.30155751  10.58712442   2.28553893   2.07512326]\n",
      "Best MSE\n",
      "0.16000207803929214\n",
      "\n",
      "\n"
     ]
    },
    {
     "name": "stdout",
     "output_type": "stream",
     "text": [
      "Iterations left: 200\n",
      "Best weights\n",
      "[  2.95283589   0.79482018   8.6014372    1.00694628   7.80795037\n",
      " -10.9862026   -6.08184537   6.03678567  -7.20916246   2.49527546\n",
      "   1.41144035  -1.02227477  -1.51371126   3.22049476  -6.34474938\n",
      "  -3.54396184  13.41158079  -7.97025618   2.26470911  -2.43237883\n",
      "  16.35570248  -5.41856352   4.06046587   6.29346272  -2.15452039\n",
      "  -3.46026227   3.30155751  10.58712442   2.28553893   2.07512326]\n",
      "Best MSE\n",
      "0.16000207803929214\n",
      "\n",
      "\n",
      "Iterations left: 100\n",
      "Best weights\n",
      "[  2.95283589   0.79482018   8.6014372    1.00694628   7.80795037\n",
      " -10.9862026   -6.08184537   6.03678567  -7.20916246   2.49527546\n",
      "   1.41144035  -1.02227477  -1.51371126   3.22049476  -6.34474938\n",
      "  -3.54396184  13.41158079  -7.97025618   2.26470911  -2.43237883\n",
      "  16.35570248  -5.41856352   4.06046587   6.29346272  -2.15452039\n",
      "  -3.46026227   3.30155751  10.58712442   2.28553893   2.07512326]\n",
      "Best MSE\n",
      "0.16000207803929214\n",
      "\n",
      "\n"
     ]
    }
   ],
   "source": [
    "ann.train(use_data)"
   ]
  },
  {
   "cell_type": "code",
   "execution_count": 43,
   "metadata": {
    "scrolled": true
   },
   "outputs": [
    {
     "name": "stdout",
     "output_type": "stream",
     "text": [
      "[-2.04002088 -1.88938852  0.44324982 -3.49972354  7.18023616 -0.39792019\n",
      " -3.58836305 -2.35373269  1.470024    3.78301226  3.72269241 -6.86042492]\n",
      "[-0.05453172  2.32901182  0.92620841 -3.09217888  2.85757209 -0.44923689\n",
      " -1.48098205  0.4285847   1.09631474  0.37967748  0.73247123 -0.55038095]\n"
     ]
    }
   ],
   "source": [
    "for p in ann.p_swarm:\n",
    "    print(p.weights)"
   ]
  },
  {
   "cell_type": "code",
   "execution_count": 45,
   "metadata": {
    "scrolled": false
   },
   "outputs": [
    {
     "name": "stdout",
     "output_type": "stream",
     "text": [
      "Prediction vs target: 1.0 v 1.0\n",
      "Error: 0.0\n",
      "Prediction vs target: 1.812706832698257e-98 v 0.0\n",
      "Error: 3.285906061310947e-196\n",
      "Prediction vs target: 1.0 v 1.0\n",
      "Error: 3.285906061310947e-196\n",
      "Prediction vs target: 1.714167540253494e-98 v 0.0\n",
      "Error: 6.224276417369661e-196\n",
      "Prediction vs target: 1.0 v 1.0\n",
      "Error: 6.224276417369661e-196\n",
      "MSE = 1.244855283473932e-196\n",
      "Prediction vs target: 0.9999987533132447 v 1.0\n",
      "Error: 1.5542278657757698e-12\n",
      "Prediction vs target: 1.2466867551989039e-06 v 0.0\n",
      "Error: 3.1084557313641417e-12\n",
      "Prediction vs target: 0.9999994428177184 v 1.0\n",
      "Error: 3.418907826344788e-12\n",
      "Prediction vs target: 5.571822816684491e-07 v 0.0\n",
      "Error: 3.729359921350047e-12\n",
      "Prediction vs target: 0.9999995582261276 v 1.0\n",
      "Error: 3.924524075661274e-12\n",
      "MSE = 7.849048151322548e-13\n"
     ]
    }
   ],
   "source": [
    "for p in ann.p_swarm:\n",
    "    error = 0\n",
    "    for d in use_data:\n",
    "        input_dat = d[:2]\n",
    "        target = d[2]\n",
    "        pred = make_prediction(p.weights, input_dat, 4)\n",
    "        print(\"Prediction vs target: \" + str(pred) + \" v \" + str(target))\n",
    "        error += (target - pred) ** 2\n",
    "        print(\"Error: \" + str(error))\n",
    "    mse = error / len(use_data)\n",
    "    print(\"MSE = \" + str(mse))"
   ]
  },
  {
   "cell_type": "code",
   "execution_count": 46,
   "metadata": {},
   "outputs": [
    {
     "data": {
      "text/plain": [
       "3"
      ]
     },
     "execution_count": 46,
     "metadata": {},
     "output_type": "execute_result"
    }
   ],
   "source": [
    "der = 4\n",
    "der -= 1\n",
    "der"
   ]
  },
  {
   "cell_type": "code",
   "execution_count": 34,
   "metadata": {},
   "outputs": [
    {
     "data": {
      "text/plain": [
       "array([0.16234723, 0.82970264, 0.55429779, 0.38560996, 0.56121406])"
      ]
     },
     "execution_count": 34,
     "metadata": {},
     "output_type": "execute_result"
    }
   ],
   "source": [
    "n = np.random.uniform(size=5)\n",
    "n"
   ]
  },
  {
   "cell_type": "code",
   "execution_count": 54,
   "metadata": {},
   "outputs": [
    {
     "data": {
      "text/plain": [
       "[['4.47485', '-0.89004', '1'],\n",
       " ['-4.47485', '0.89004', '0'],\n",
       " ['4.50000', '0.00007', '1'],\n",
       " ['-4.50000', '-0.00007', '0'],\n",
       " ['4.35222', '0.86578', '1'],\n",
       " ['-4.35222', '-0.86578', '0'],\n",
       " ['4.04195', '1.67430', '1'],\n",
       " ['-4.04195', '-1.67430', '0'],\n",
       " ['3.58567', '2.39595', '1'],\n",
       " ['-3.58567', '-2.39595', '0']]"
      ]
     },
     "execution_count": 54,
     "metadata": {},
     "output_type": "execute_result"
    }
   ],
   "source": [
    "data[:10]"
   ]
  },
  {
   "cell_type": "code",
   "execution_count": 73,
   "metadata": {
    "scrolled": true
   },
   "outputs": [
    {
     "data": {
      "image/png": "[encoded data removed]",
      "text/plain": [
       "<Figure size 432x288 with 1 Axes>"
      ]
     },
     "metadata": {
      "needs_background": "light"
     },
     "output_type": "display_data"
    }
   ],
   "source": [
    "plt.scatter(x0[:5], y0[:5], c='red')\n",
    "plt.scatter(x1[:5], y1[:5], c='blue')\n",
    "plt.show()"
   ]
  },
  {
   "cell_type": "code",
   "execution_count": 140,
   "metadata": {},
   "outputs": [
    {
     "data": {
      "text/plain": [
       "264"
      ]
     },
     "execution_count": 140,
     "metadata": {},
     "output_type": "execute_result"
    }
   ],
   "source": [
    "len(data)"
   ]
  },
  {
   "cell_type": "code",
   "execution_count": 4,
   "metadata": {},
   "outputs": [
    {
     "data": {
      "text/plain": [
       "array([ 0.46477822, -4.94108301,  2.22317924,  1.41864725, -1.20864108,\n",
       "        4.22039113, -1.83713871,  7.39452843, -4.37398149,  7.08231867,\n",
       "        3.67176517,  5.38352563])"
      ]
     },
     "execution_count": 4,
     "metadata": {},
     "output_type": "execute_result"
    }
   ],
   "source": [
    "np.random.uniform(low=-10.0, high=10.0, size=(12,))"
   ]
  },
  {
   "cell_type": "code",
   "execution_count": 34,
   "metadata": {},
   "outputs": [],
   "source": [
    "shape = [4,3,2]\n",
    "inputs = 4"
   ]
  },
  {
   "cell_type": "code",
   "execution_count": 70,
   "metadata": {},
   "outputs": [
    {
     "name": "stdout",
     "output_type": "stream",
     "text": [
      "36\n",
      "[16, 12, 6, 2]\n"
     ]
    }
   ],
   "source": [
    "weights = 0\n",
    "conn_layers = []\n",
    "first_layer = inputs * shape[0]\n",
    "weights += first_layer\n",
    "conn_layers.append(first_layer)\n",
    "for i in range(len(shape) - 1):\n",
    "    connections = shape[i] * shape[i+1]\n",
    "    weights += connections\n",
    "    conn_layers.append(connections)\n",
    "weights += shape[-1]\n",
    "conn_layers.append(shape[-1])\n",
    "print(weights)\n",
    "print(conn_layers)"
   ]
  },
  {
   "cell_type": "code",
   "execution_count": 71,
   "metadata": {},
   "outputs": [
    {
     "name": "stdout",
     "output_type": "stream",
     "text": [
      "[array([2, 4, 9, 8, 8, 2, 9, 3, 5, 7, 7, 5, 2, 5, 0, 3, 1, 6, 6, 7, 9, 4,\n",
      "       4, 8, 0, 9, 6, 6, 6, 3, 0, 9, 6, 4, 8, 5])]\n",
      "[array([2, 4, 9, 8, 8, 2, 9, 3, 5, 7, 7, 5, 2, 5, 0, 3]), array([1, 6, 6, 7, 9, 4, 4, 8, 0, 9, 6, 6]), array([6, 3, 0, 9, 6, 4]), array([8, 5])]\n"
     ]
    }
   ],
   "source": [
    "rand_array = [np.random.randint(10, size=weights)]\n",
    "print(rand_array)\n",
    "arr = []\n",
    "for i in conn_layers[::-1]:\n",
    "    rand_array = np.split(rand_array[0], [-i])\n",
    "    arr.append(rand_array[1])\n",
    "arr.reverse()\n",
    "print(arr)"
   ]
  },
  {
   "cell_type": "code",
   "execution_count": 76,
   "metadata": {},
   "outputs": [
    {
     "data": {
      "text/plain": [
       "170286"
      ]
     },
     "execution_count": 76,
     "metadata": {},
     "output_type": "execute_result"
    }
   ],
   "source": [
    "inputs = [2,1,3,4]\n",
    "for i in range(len(shape)):\n",
    "    w = np.array(np.split(arr[i], shape[i]))\n",
    "    inputs = w.dot(inputs)\n",
    "output = arr[-1].dot(inputs)\n",
    "output\n",
    "# w = np.array(np.split(arr[0], shape[0]))\n",
    "# print(w)\n",
    "# inputs = w.dot(inputs)\n",
    "# print(inputs)\n",
    "# print()\n",
    "# w = np.array(np.split(arr[1], shape[1]))\n",
    "# print(w)\n",
    "# inputs = w.dot(inputs)\n",
    "# print(inputs)\n",
    "# print()\n",
    "# w = np.array(np.split(arr[2], shape[2]))\n",
    "# print(w)\n",
    "# inputs = w.dot(inputs)\n",
    "# print(inputs)\n",
    "# print()\n",
    "# print(arr[-1])\n",
    "# output = arr[-1].dot(inputs)\n",
    "# output"
   ]
  },
  {
   "cell_type": "code",
   "execution_count": 62,
   "metadata": {},
   "outputs": [
    {
     "name": "stdout",
     "output_type": "stream",
     "text": [
      "[array([9.14640808e-04, 9.76745179e-01, 1.87269547e-01, 8.59651655e-02,\n",
      "       4.32048201e-01, 6.06428267e-01, 3.04083548e-01, 7.33910914e-01,\n",
      "       5.23842156e-01, 2.04739089e-01, 8.40352447e-01, 8.01503062e-01,\n",
      "       3.09148551e-01, 4.46008202e-01, 8.88826171e-01, 8.66837795e-01,\n",
      "       6.25191486e-01, 1.06605780e-01, 6.40143171e-01, 7.20495647e-02,\n",
      "       8.75399031e-01, 3.10905492e-01, 6.93177323e-01, 3.33612785e-01,\n",
      "       2.87293850e-01, 7.17985474e-01, 5.62679635e-01, 6.54956289e-01]), array([0.85152176, 0.99741196, 0.73789124, 0.61906824, 0.21042631,\n",
      "       0.21815524])]\n"
     ]
    },
    {
     "data": {
      "text/plain": [
       "[array([0.41328939, 0.96744367]),\n",
       " array([0.85152176, 0.99741196, 0.73789124, 0.61906824, 0.21042631,\n",
       "        0.21815524])]"
      ]
     },
     "execution_count": 62,
     "metadata": {},
     "output_type": "execute_result"
    }
   ],
   "source": [
    "v1 = np.split(v1[0], [-6])\n",
    "print(v1)\n",
    "arr.append(v1[1])\n",
    "arr"
   ]
  },
  {
   "cell_type": "code",
   "execution_count": 63,
   "metadata": {},
   "outputs": [
    {
     "name": "stdout",
     "output_type": "stream",
     "text": [
      "[array([9.14640808e-04, 9.76745179e-01, 1.87269547e-01, 8.59651655e-02,\n",
      "       4.32048201e-01, 6.06428267e-01, 3.04083548e-01, 7.33910914e-01,\n",
      "       5.23842156e-01, 2.04739089e-01, 8.40352447e-01, 8.01503062e-01,\n",
      "       3.09148551e-01, 4.46008202e-01, 8.88826171e-01, 8.66837795e-01]), array([0.62519149, 0.10660578, 0.64014317, 0.07204956, 0.87539903,\n",
      "       0.31090549, 0.69317732, 0.33361278, 0.28729385, 0.71798547,\n",
      "       0.56267964, 0.65495629])]\n"
     ]
    },
    {
     "data": {
      "text/plain": [
       "[array([0.41328939, 0.96744367]),\n",
       " array([0.85152176, 0.99741196, 0.73789124, 0.61906824, 0.21042631,\n",
       "        0.21815524]),\n",
       " array([0.62519149, 0.10660578, 0.64014317, 0.07204956, 0.87539903,\n",
       "        0.31090549, 0.69317732, 0.33361278, 0.28729385, 0.71798547,\n",
       "        0.56267964, 0.65495629])]"
      ]
     },
     "execution_count": 63,
     "metadata": {},
     "output_type": "execute_result"
    }
   ],
   "source": [
    "v1 = np.split(v1[0], [-12])\n",
    "print(v1)\n",
    "arr.append(v1[1])\n",
    "arr"
   ]
  },
  {
   "cell_type": "code",
   "execution_count": 64,
   "metadata": {},
   "outputs": [
    {
     "name": "stdout",
     "output_type": "stream",
     "text": [
      "[array([], dtype=float64), array([9.14640808e-04, 9.76745179e-01, 1.87269547e-01, 8.59651655e-02,\n",
      "       4.32048201e-01, 6.06428267e-01, 3.04083548e-01, 7.33910914e-01,\n",
      "       5.23842156e-01, 2.04739089e-01, 8.40352447e-01, 8.01503062e-01,\n",
      "       3.09148551e-01, 4.46008202e-01, 8.88826171e-01, 8.66837795e-01])]\n"
     ]
    },
    {
     "data": {
      "text/plain": [
       "[array([0.41328939, 0.96744367]),\n",
       " array([0.85152176, 0.99741196, 0.73789124, 0.61906824, 0.21042631,\n",
       "        0.21815524]),\n",
       " array([0.62519149, 0.10660578, 0.64014317, 0.07204956, 0.87539903,\n",
       "        0.31090549, 0.69317732, 0.33361278, 0.28729385, 0.71798547,\n",
       "        0.56267964, 0.65495629]),\n",
       " array([9.14640808e-04, 9.76745179e-01, 1.87269547e-01, 8.59651655e-02,\n",
       "        4.32048201e-01, 6.06428267e-01, 3.04083548e-01, 7.33910914e-01,\n",
       "        5.23842156e-01, 2.04739089e-01, 8.40352447e-01, 8.01503062e-01,\n",
       "        3.09148551e-01, 4.46008202e-01, 8.88826171e-01, 8.66837795e-01])]"
      ]
     },
     "execution_count": 64,
     "metadata": {},
     "output_type": "execute_result"
    }
   ],
   "source": [
    "v1 = np.split(v1[0], [-16])\n",
    "print(v1)\n",
    "arr.append(v1[1])\n",
    "arr"
   ]
  },
  {
   "cell_type": "code",
   "execution_count": 65,
   "metadata": {},
   "outputs": [
    {
     "data": {
      "text/plain": [
       "[array([9.14640808e-04, 9.76745179e-01, 1.87269547e-01, 8.59651655e-02,\n",
       "        4.32048201e-01, 6.06428267e-01, 3.04083548e-01, 7.33910914e-01,\n",
       "        5.23842156e-01, 2.04739089e-01, 8.40352447e-01, 8.01503062e-01,\n",
       "        3.09148551e-01, 4.46008202e-01, 8.88826171e-01, 8.66837795e-01]),\n",
       " array([0.62519149, 0.10660578, 0.64014317, 0.07204956, 0.87539903,\n",
       "        0.31090549, 0.69317732, 0.33361278, 0.28729385, 0.71798547,\n",
       "        0.56267964, 0.65495629]),\n",
       " array([0.85152176, 0.99741196, 0.73789124, 0.61906824, 0.21042631,\n",
       "        0.21815524]),\n",
       " array([0.41328939, 0.96744367])]"
      ]
     },
     "execution_count": 65,
     "metadata": {},
     "output_type": "execute_result"
    }
   ],
   "source": [
    "arr.reverse()\n",
    "arr"
   ]
  },
  {
   "cell_type": "code",
   "execution_count": 79,
   "metadata": {},
   "outputs": [
    {
     "data": {
      "text/plain": [
       "[6]"
      ]
     },
     "execution_count": 79,
     "metadata": {},
     "output_type": "execute_result"
    }
   ],
   "source": []
  },
  {
   "cell_type": "code",
   "execution_count": null,
   "metadata": {},
   "outputs": [],
   "source": []
  }
 ],
 "metadata": {
  "kernelspec": {
   "display_name": "Python 3",
   "language": "python",
   "name": "python3"
  },
  "language_info": {
   "codemirror_mode": {
    "name": "ipython",
    "version": 3
   },
   "file_extension": ".py",
   "mimetype": "text/x-python",
   "name": "python",
   "nbconvert_exporter": "python",
   "pygments_lexer": "ipython3",
   "version": "3.7.4"
  }
 },
 "nbformat": 4,
 "nbformat_minor": 2
}
